{
 "cells": [
  {
   "cell_type": "markdown",
   "metadata": {},
   "source": [
    "## In this notebook we are trying to predict how food consumption and health factors influences the COVID-19 fatality rates around the world "
   ]
  },
  {
   "cell_type": "code",
   "execution_count": 1,
   "metadata": {},
   "outputs": [],
   "source": [
    "# Loading the required packages\n",
    "import pandas as pd\n",
    "import seaborn as sns\n",
    "import matplotlib.pyplot as plt\n",
    "import numpy as np\n",
    "import altair as alt"
   ]
  },
  {
   "cell_type": "code",
   "execution_count": 2,
   "metadata": {},
   "outputs": [],
   "source": [
    "# Importing all the datasets required\n",
    "covid_food_data = pd.read_csv(\"../data/covid_food_supply.csv\")"
   ]
  },
  {
   "cell_type": "markdown",
   "metadata": {},
   "source": [
    "## Data description"
   ]
  },
  {
   "cell_type": "code",
   "execution_count": 3,
   "metadata": {},
   "outputs": [
    {
     "data": {
      "text/plain": [
       "(170, 32)"
      ]
     },
     "execution_count": 3,
     "metadata": {},
     "output_type": "execute_result"
    }
   ],
   "source": [
    "# Checking for the number of rows and columns in a dataset.\n",
    "covid_food_data.shape"
   ]
  },
  {
   "cell_type": "code",
   "execution_count": 4,
   "metadata": {},
   "outputs": [
    {
     "name": "stdout",
     "output_type": "stream",
     "text": [
      "<class 'pandas.core.frame.DataFrame'>\n",
      "RangeIndex: 170 entries, 0 to 169\n",
      "Data columns (total 32 columns):\n",
      " #   Column                        Non-Null Count  Dtype  \n",
      "---  ------                        --------------  -----  \n",
      " 0   Country                       170 non-null    object \n",
      " 1   Alcoholic Beverages           170 non-null    float64\n",
      " 2   Animal fats                   170 non-null    float64\n",
      " 3   Animal Products               170 non-null    float64\n",
      " 4   Aquatic Products, Other       170 non-null    float64\n",
      " 5   Cereals - Excluding Beer      170 non-null    float64\n",
      " 6   Eggs                          170 non-null    float64\n",
      " 7   Fish, Seafood                 170 non-null    float64\n",
      " 8   Fruits - Excluding Wine       170 non-null    float64\n",
      " 9   Meat                          170 non-null    float64\n",
      " 10  Milk - Excluding Butter       170 non-null    float64\n",
      " 11  Miscellaneous                 170 non-null    float64\n",
      " 12  Offals                        170 non-null    float64\n",
      " 13  Oilcrops                      170 non-null    float64\n",
      " 14  Pulses                        170 non-null    float64\n",
      " 15  Spices                        170 non-null    float64\n",
      " 16  Starchy Roots                 170 non-null    float64\n",
      " 17  Stimulants                    170 non-null    float64\n",
      " 18  Sugar & Sweeteners            170 non-null    float64\n",
      " 19  Sugar Crops                   170 non-null    float64\n",
      " 20  Treenuts                      170 non-null    float64\n",
      " 21  Vegetable Oils                170 non-null    float64\n",
      " 22  Vegetables                    170 non-null    float64\n",
      " 23  Vegetal Products              170 non-null    float64\n",
      " 24  Obesity                       167 non-null    float64\n",
      " 25  Undernourished                163 non-null    object \n",
      " 26  Confirmed                     161 non-null    float64\n",
      " 27  Deaths                        161 non-null    float64\n",
      " 28  Recovered                     161 non-null    float64\n",
      " 29  Active                        159 non-null    float64\n",
      " 30  Population                    170 non-null    float64\n",
      " 31  Unit (all except Population)  170 non-null    object \n",
      "dtypes: float64(29), object(3)\n",
      "memory usage: 42.6+ KB\n"
     ]
    }
   ],
   "source": [
    "# Checking the attributes in the dataset\n",
    "covid_food_data.info()"
   ]
  },
  {
   "cell_type": "code",
   "execution_count": 5,
   "metadata": {},
   "outputs": [
    {
     "data": {
      "text/html": [
       "<div>\n",
       "<style scoped>\n",
       "    .dataframe tbody tr th:only-of-type {\n",
       "        vertical-align: middle;\n",
       "    }\n",
       "\n",
       "    .dataframe tbody tr th {\n",
       "        vertical-align: top;\n",
       "    }\n",
       "\n",
       "    .dataframe thead th {\n",
       "        text-align: right;\n",
       "    }\n",
       "</style>\n",
       "<table border=\"1\" class=\"dataframe\">\n",
       "  <thead>\n",
       "    <tr style=\"text-align: right;\">\n",
       "      <th></th>\n",
       "      <th>Country</th>\n",
       "      <th>Alcoholic Beverages</th>\n",
       "      <th>Animal fats</th>\n",
       "      <th>Animal Products</th>\n",
       "      <th>Aquatic Products, Other</th>\n",
       "      <th>Cereals - Excluding Beer</th>\n",
       "      <th>Eggs</th>\n",
       "      <th>Fish, Seafood</th>\n",
       "      <th>Fruits - Excluding Wine</th>\n",
       "      <th>Meat</th>\n",
       "      <th>Milk - Excluding Butter</th>\n",
       "      <th>Miscellaneous</th>\n",
       "      <th>Offals</th>\n",
       "      <th>Oilcrops</th>\n",
       "      <th>Pulses</th>\n",
       "      <th>Spices</th>\n",
       "      <th>Starchy Roots</th>\n",
       "      <th>Stimulants</th>\n",
       "      <th>Sugar &amp; Sweeteners</th>\n",
       "      <th>Sugar Crops</th>\n",
       "      <th>Treenuts</th>\n",
       "      <th>Vegetable Oils</th>\n",
       "      <th>Vegetables</th>\n",
       "      <th>Vegetal Products</th>\n",
       "      <th>Obesity</th>\n",
       "      <th>Undernourished</th>\n",
       "      <th>Confirmed</th>\n",
       "      <th>Deaths</th>\n",
       "      <th>Recovered</th>\n",
       "      <th>Active</th>\n",
       "      <th>Population</th>\n",
       "      <th>Unit (all except Population)</th>\n",
       "    </tr>\n",
       "  </thead>\n",
       "  <tbody>\n",
       "    <tr>\n",
       "      <th>0</th>\n",
       "      <td>Afghanistan</td>\n",
       "      <td>0.0014</td>\n",
       "      <td>0.1973</td>\n",
       "      <td>9.4341</td>\n",
       "      <td>0.0</td>\n",
       "      <td>24.8097</td>\n",
       "      <td>0.2099</td>\n",
       "      <td>0.0350</td>\n",
       "      <td>5.3495</td>\n",
       "      <td>1.2020</td>\n",
       "      <td>7.5828</td>\n",
       "      <td>0.0728</td>\n",
       "      <td>0.2057</td>\n",
       "      <td>0.0700</td>\n",
       "      <td>0.2953</td>\n",
       "      <td>0.0574</td>\n",
       "      <td>0.8802</td>\n",
       "      <td>0.3078</td>\n",
       "      <td>1.3489</td>\n",
       "      <td>0.0</td>\n",
       "      <td>0.0770</td>\n",
       "      <td>0.5345</td>\n",
       "      <td>6.7642</td>\n",
       "      <td>40.5645</td>\n",
       "      <td>4.5</td>\n",
       "      <td>29.8</td>\n",
       "      <td>0.091130</td>\n",
       "      <td>0.003034</td>\n",
       "      <td>0.060712</td>\n",
       "      <td>0.027384</td>\n",
       "      <td>38928000.0</td>\n",
       "      <td>%</td>\n",
       "    </tr>\n",
       "    <tr>\n",
       "      <th>1</th>\n",
       "      <td>Albania</td>\n",
       "      <td>1.6719</td>\n",
       "      <td>0.1357</td>\n",
       "      <td>18.7684</td>\n",
       "      <td>0.0</td>\n",
       "      <td>5.7817</td>\n",
       "      <td>0.5815</td>\n",
       "      <td>0.2126</td>\n",
       "      <td>6.7861</td>\n",
       "      <td>1.8845</td>\n",
       "      <td>15.7213</td>\n",
       "      <td>0.1123</td>\n",
       "      <td>0.2324</td>\n",
       "      <td>0.9377</td>\n",
       "      <td>0.2380</td>\n",
       "      <td>0.0008</td>\n",
       "      <td>1.8096</td>\n",
       "      <td>0.1055</td>\n",
       "      <td>1.5367</td>\n",
       "      <td>0.0</td>\n",
       "      <td>0.1515</td>\n",
       "      <td>0.3261</td>\n",
       "      <td>11.7753</td>\n",
       "      <td>31.2304</td>\n",
       "      <td>22.3</td>\n",
       "      <td>6.2</td>\n",
       "      <td>0.144116</td>\n",
       "      <td>0.003946</td>\n",
       "      <td>0.081431</td>\n",
       "      <td>0.058739</td>\n",
       "      <td>2838000.0</td>\n",
       "      <td>%</td>\n",
       "    </tr>\n",
       "    <tr>\n",
       "      <th>2</th>\n",
       "      <td>Algeria</td>\n",
       "      <td>0.2711</td>\n",
       "      <td>0.0282</td>\n",
       "      <td>9.6334</td>\n",
       "      <td>0.0</td>\n",
       "      <td>13.6816</td>\n",
       "      <td>0.5277</td>\n",
       "      <td>0.2416</td>\n",
       "      <td>6.3801</td>\n",
       "      <td>1.1305</td>\n",
       "      <td>7.6189</td>\n",
       "      <td>0.1671</td>\n",
       "      <td>0.0870</td>\n",
       "      <td>0.3493</td>\n",
       "      <td>0.4783</td>\n",
       "      <td>0.0557</td>\n",
       "      <td>4.1340</td>\n",
       "      <td>0.2216</td>\n",
       "      <td>1.8342</td>\n",
       "      <td>0.0</td>\n",
       "      <td>0.1152</td>\n",
       "      <td>1.0310</td>\n",
       "      <td>11.6484</td>\n",
       "      <td>40.3651</td>\n",
       "      <td>26.6</td>\n",
       "      <td>3.9</td>\n",
       "      <td>0.052041</td>\n",
       "      <td>0.002430</td>\n",
       "      <td>0.036186</td>\n",
       "      <td>0.013425</td>\n",
       "      <td>44357000.0</td>\n",
       "      <td>%</td>\n",
       "    </tr>\n",
       "    <tr>\n",
       "      <th>3</th>\n",
       "      <td>Angola</td>\n",
       "      <td>5.8087</td>\n",
       "      <td>0.0560</td>\n",
       "      <td>4.9278</td>\n",
       "      <td>0.0</td>\n",
       "      <td>9.1085</td>\n",
       "      <td>0.0587</td>\n",
       "      <td>1.7707</td>\n",
       "      <td>6.0005</td>\n",
       "      <td>2.0571</td>\n",
       "      <td>0.8311</td>\n",
       "      <td>0.1165</td>\n",
       "      <td>0.1550</td>\n",
       "      <td>0.4186</td>\n",
       "      <td>0.6507</td>\n",
       "      <td>0.0009</td>\n",
       "      <td>18.1102</td>\n",
       "      <td>0.0508</td>\n",
       "      <td>1.8495</td>\n",
       "      <td>0.0</td>\n",
       "      <td>0.0061</td>\n",
       "      <td>0.6463</td>\n",
       "      <td>2.3041</td>\n",
       "      <td>45.0722</td>\n",
       "      <td>6.8</td>\n",
       "      <td>25</td>\n",
       "      <td>0.002168</td>\n",
       "      <td>0.000089</td>\n",
       "      <td>0.000680</td>\n",
       "      <td>0.001399</td>\n",
       "      <td>32522000.0</td>\n",
       "      <td>%</td>\n",
       "    </tr>\n",
       "    <tr>\n",
       "      <th>4</th>\n",
       "      <td>Antigua and Barbuda</td>\n",
       "      <td>3.5764</td>\n",
       "      <td>0.0087</td>\n",
       "      <td>16.6613</td>\n",
       "      <td>0.0</td>\n",
       "      <td>5.9960</td>\n",
       "      <td>0.2274</td>\n",
       "      <td>4.1489</td>\n",
       "      <td>10.7451</td>\n",
       "      <td>5.6888</td>\n",
       "      <td>6.3663</td>\n",
       "      <td>0.7139</td>\n",
       "      <td>0.2219</td>\n",
       "      <td>0.2172</td>\n",
       "      <td>0.1840</td>\n",
       "      <td>0.1524</td>\n",
       "      <td>1.4522</td>\n",
       "      <td>0.1564</td>\n",
       "      <td>3.8749</td>\n",
       "      <td>0.0</td>\n",
       "      <td>0.0253</td>\n",
       "      <td>0.8102</td>\n",
       "      <td>5.4495</td>\n",
       "      <td>33.3233</td>\n",
       "      <td>19.1</td>\n",
       "      <td>NaN</td>\n",
       "      <td>0.077551</td>\n",
       "      <td>0.003061</td>\n",
       "      <td>0.058163</td>\n",
       "      <td>0.016327</td>\n",
       "      <td>98000.0</td>\n",
       "      <td>%</td>\n",
       "    </tr>\n",
       "  </tbody>\n",
       "</table>\n",
       "</div>"
      ],
      "text/plain": [
       "               Country  Alcoholic Beverages  Animal fats  Animal Products  \\\n",
       "0          Afghanistan               0.0014       0.1973           9.4341   \n",
       "1              Albania               1.6719       0.1357          18.7684   \n",
       "2              Algeria               0.2711       0.0282           9.6334   \n",
       "3               Angola               5.8087       0.0560           4.9278   \n",
       "4  Antigua and Barbuda               3.5764       0.0087          16.6613   \n",
       "\n",
       "   Aquatic Products, Other  Cereals - Excluding Beer    Eggs  Fish, Seafood  \\\n",
       "0                      0.0                   24.8097  0.2099         0.0350   \n",
       "1                      0.0                    5.7817  0.5815         0.2126   \n",
       "2                      0.0                   13.6816  0.5277         0.2416   \n",
       "3                      0.0                    9.1085  0.0587         1.7707   \n",
       "4                      0.0                    5.9960  0.2274         4.1489   \n",
       "\n",
       "   Fruits - Excluding Wine    Meat  Milk - Excluding Butter  Miscellaneous  \\\n",
       "0                   5.3495  1.2020                   7.5828         0.0728   \n",
       "1                   6.7861  1.8845                  15.7213         0.1123   \n",
       "2                   6.3801  1.1305                   7.6189         0.1671   \n",
       "3                   6.0005  2.0571                   0.8311         0.1165   \n",
       "4                  10.7451  5.6888                   6.3663         0.7139   \n",
       "\n",
       "   Offals  Oilcrops  Pulses  Spices  Starchy Roots  Stimulants  \\\n",
       "0  0.2057    0.0700  0.2953  0.0574         0.8802      0.3078   \n",
       "1  0.2324    0.9377  0.2380  0.0008         1.8096      0.1055   \n",
       "2  0.0870    0.3493  0.4783  0.0557         4.1340      0.2216   \n",
       "3  0.1550    0.4186  0.6507  0.0009        18.1102      0.0508   \n",
       "4  0.2219    0.2172  0.1840  0.1524         1.4522      0.1564   \n",
       "\n",
       "   Sugar & Sweeteners  Sugar Crops  Treenuts  Vegetable Oils  Vegetables  \\\n",
       "0              1.3489          0.0    0.0770          0.5345      6.7642   \n",
       "1              1.5367          0.0    0.1515          0.3261     11.7753   \n",
       "2              1.8342          0.0    0.1152          1.0310     11.6484   \n",
       "3              1.8495          0.0    0.0061          0.6463      2.3041   \n",
       "4              3.8749          0.0    0.0253          0.8102      5.4495   \n",
       "\n",
       "   Vegetal Products  Obesity Undernourished  Confirmed    Deaths  Recovered  \\\n",
       "0           40.5645      4.5           29.8   0.091130  0.003034   0.060712   \n",
       "1           31.2304     22.3            6.2   0.144116  0.003946   0.081431   \n",
       "2           40.3651     26.6            3.9   0.052041  0.002430   0.036186   \n",
       "3           45.0722      6.8             25   0.002168  0.000089   0.000680   \n",
       "4           33.3233     19.1            NaN   0.077551  0.003061   0.058163   \n",
       "\n",
       "     Active  Population Unit (all except Population)  \n",
       "0  0.027384  38928000.0                            %  \n",
       "1  0.058739   2838000.0                            %  \n",
       "2  0.013425  44357000.0                            %  \n",
       "3  0.001399  32522000.0                            %  \n",
       "4  0.016327     98000.0                            %  "
      ]
     },
     "execution_count": 5,
     "metadata": {},
     "output_type": "execute_result"
    }
   ],
   "source": [
    "# display all the columns\n",
    "pd.options.display.max_columns = None\n",
    "# Prints the top 5 rows of the dataset\n",
    "covid_food_data.head()"
   ]
  },
  {
   "cell_type": "code",
   "execution_count": 6,
   "metadata": {},
   "outputs": [
    {
     "data": {
      "text/html": [
       "<div>\n",
       "<style scoped>\n",
       "    .dataframe tbody tr th:only-of-type {\n",
       "        vertical-align: middle;\n",
       "    }\n",
       "\n",
       "    .dataframe tbody tr th {\n",
       "        vertical-align: top;\n",
       "    }\n",
       "\n",
       "    .dataframe thead th {\n",
       "        text-align: right;\n",
       "    }\n",
       "</style>\n",
       "<table border=\"1\" class=\"dataframe\">\n",
       "  <thead>\n",
       "    <tr style=\"text-align: right;\">\n",
       "      <th></th>\n",
       "      <th>Country</th>\n",
       "      <th>Alcoholic Beverages</th>\n",
       "      <th>Animal fats</th>\n",
       "      <th>Animal Products</th>\n",
       "      <th>Aquatic Products, Other</th>\n",
       "      <th>Cereals - Excluding Beer</th>\n",
       "      <th>Eggs</th>\n",
       "      <th>Fish, Seafood</th>\n",
       "      <th>Fruits - Excluding Wine</th>\n",
       "      <th>Meat</th>\n",
       "      <th>Milk - Excluding Butter</th>\n",
       "      <th>Miscellaneous</th>\n",
       "      <th>Offals</th>\n",
       "      <th>Oilcrops</th>\n",
       "      <th>Pulses</th>\n",
       "      <th>Spices</th>\n",
       "      <th>Starchy Roots</th>\n",
       "      <th>Stimulants</th>\n",
       "      <th>Sugar &amp; Sweeteners</th>\n",
       "      <th>Sugar Crops</th>\n",
       "      <th>Treenuts</th>\n",
       "      <th>Vegetable Oils</th>\n",
       "      <th>Vegetables</th>\n",
       "      <th>Vegetal Products</th>\n",
       "      <th>Obesity</th>\n",
       "      <th>Undernourished</th>\n",
       "      <th>Confirmed</th>\n",
       "      <th>Deaths</th>\n",
       "      <th>Recovered</th>\n",
       "      <th>Active</th>\n",
       "      <th>Population</th>\n",
       "      <th>Unit (all except Population)</th>\n",
       "    </tr>\n",
       "  </thead>\n",
       "  <tbody>\n",
       "    <tr>\n",
       "      <th>165</th>\n",
       "      <td>Venezuela (Bolivarian Republic of)</td>\n",
       "      <td>2.5952</td>\n",
       "      <td>0.0403</td>\n",
       "      <td>14.7565</td>\n",
       "      <td>0.0000</td>\n",
       "      <td>12.9253</td>\n",
       "      <td>0.3389</td>\n",
       "      <td>0.9456</td>\n",
       "      <td>7.6460</td>\n",
       "      <td>3.8328</td>\n",
       "      <td>9.3920</td>\n",
       "      <td>0.0702</td>\n",
       "      <td>0.2078</td>\n",
       "      <td>0.0281</td>\n",
       "      <td>0.3342</td>\n",
       "      <td>0.0009</td>\n",
       "      <td>2.5643</td>\n",
       "      <td>0.1479</td>\n",
       "      <td>3.4106</td>\n",
       "      <td>0.000</td>\n",
       "      <td>0.0009</td>\n",
       "      <td>1.3734</td>\n",
       "      <td>4.1474</td>\n",
       "      <td>35.2416</td>\n",
       "      <td>25.2</td>\n",
       "      <td>21.2</td>\n",
       "      <td>0.041512</td>\n",
       "      <td>0.000391</td>\n",
       "      <td>0.013866</td>\n",
       "      <td>0.027254</td>\n",
       "      <td>28645000.0</td>\n",
       "      <td>%</td>\n",
       "    </tr>\n",
       "    <tr>\n",
       "      <th>166</th>\n",
       "      <td>Vietnam</td>\n",
       "      <td>1.4591</td>\n",
       "      <td>0.1640</td>\n",
       "      <td>8.5765</td>\n",
       "      <td>0.0042</td>\n",
       "      <td>16.8740</td>\n",
       "      <td>0.3077</td>\n",
       "      <td>2.6392</td>\n",
       "      <td>5.9029</td>\n",
       "      <td>4.4382</td>\n",
       "      <td>0.6069</td>\n",
       "      <td>0.0126</td>\n",
       "      <td>0.4149</td>\n",
       "      <td>0.8410</td>\n",
       "      <td>0.2032</td>\n",
       "      <td>0.2074</td>\n",
       "      <td>1.0596</td>\n",
       "      <td>0.2880</td>\n",
       "      <td>1.2846</td>\n",
       "      <td>0.815</td>\n",
       "      <td>0.3070</td>\n",
       "      <td>0.2201</td>\n",
       "      <td>11.9508</td>\n",
       "      <td>41.4232</td>\n",
       "      <td>2.1</td>\n",
       "      <td>9.3</td>\n",
       "      <td>0.000398</td>\n",
       "      <td>0.000000</td>\n",
       "      <td>0.000371</td>\n",
       "      <td>0.000027</td>\n",
       "      <td>96209000.0</td>\n",
       "      <td>%</td>\n",
       "    </tr>\n",
       "    <tr>\n",
       "      <th>167</th>\n",
       "      <td>Yemen</td>\n",
       "      <td>0.0364</td>\n",
       "      <td>0.0446</td>\n",
       "      <td>5.7874</td>\n",
       "      <td>0.0000</td>\n",
       "      <td>27.2077</td>\n",
       "      <td>0.2579</td>\n",
       "      <td>0.5240</td>\n",
       "      <td>5.1344</td>\n",
       "      <td>2.7871</td>\n",
       "      <td>1.8911</td>\n",
       "      <td>0.2033</td>\n",
       "      <td>0.2827</td>\n",
       "      <td>0.0893</td>\n",
       "      <td>0.8645</td>\n",
       "      <td>0.0347</td>\n",
       "      <td>1.0794</td>\n",
       "      <td>0.2199</td>\n",
       "      <td>5.0468</td>\n",
       "      <td>0.000</td>\n",
       "      <td>0.0017</td>\n",
       "      <td>1.0811</td>\n",
       "      <td>3.2135</td>\n",
       "      <td>44.2126</td>\n",
       "      <td>14.1</td>\n",
       "      <td>38.9</td>\n",
       "      <td>0.005385</td>\n",
       "      <td>0.001492</td>\n",
       "      <td>0.002387</td>\n",
       "      <td>0.001505</td>\n",
       "      <td>29826000.0</td>\n",
       "      <td>%</td>\n",
       "    </tr>\n",
       "    <tr>\n",
       "      <th>168</th>\n",
       "      <td>Zambia</td>\n",
       "      <td>5.7360</td>\n",
       "      <td>0.0829</td>\n",
       "      <td>6.0197</td>\n",
       "      <td>0.0000</td>\n",
       "      <td>21.1938</td>\n",
       "      <td>0.3399</td>\n",
       "      <td>1.6924</td>\n",
       "      <td>1.0183</td>\n",
       "      <td>1.8427</td>\n",
       "      <td>1.7570</td>\n",
       "      <td>0.2149</td>\n",
       "      <td>0.3048</td>\n",
       "      <td>1.8736</td>\n",
       "      <td>0.1756</td>\n",
       "      <td>0.0478</td>\n",
       "      <td>7.9649</td>\n",
       "      <td>0.0618</td>\n",
       "      <td>1.5632</td>\n",
       "      <td>0.000</td>\n",
       "      <td>0.0014</td>\n",
       "      <td>0.6657</td>\n",
       "      <td>3.4649</td>\n",
       "      <td>43.9789</td>\n",
       "      <td>6.5</td>\n",
       "      <td>46.7</td>\n",
       "      <td>0.016210</td>\n",
       "      <td>0.000653</td>\n",
       "      <td>0.007953</td>\n",
       "      <td>0.007604</td>\n",
       "      <td>18384000.0</td>\n",
       "      <td>%</td>\n",
       "    </tr>\n",
       "    <tr>\n",
       "      <th>169</th>\n",
       "      <td>Zimbabwe</td>\n",
       "      <td>4.0552</td>\n",
       "      <td>0.0755</td>\n",
       "      <td>8.1489</td>\n",
       "      <td>0.0000</td>\n",
       "      <td>22.6240</td>\n",
       "      <td>0.2678</td>\n",
       "      <td>0.5518</td>\n",
       "      <td>2.2000</td>\n",
       "      <td>2.6142</td>\n",
       "      <td>4.4310</td>\n",
       "      <td>0.2012</td>\n",
       "      <td>0.2086</td>\n",
       "      <td>0.4498</td>\n",
       "      <td>0.4261</td>\n",
       "      <td>0.0252</td>\n",
       "      <td>2.9870</td>\n",
       "      <td>0.1494</td>\n",
       "      <td>4.6485</td>\n",
       "      <td>0.000</td>\n",
       "      <td>0.0518</td>\n",
       "      <td>1.7103</td>\n",
       "      <td>2.3213</td>\n",
       "      <td>41.8526</td>\n",
       "      <td>12.3</td>\n",
       "      <td>51.3</td>\n",
       "      <td>0.010839</td>\n",
       "      <td>0.000168</td>\n",
       "      <td>0.003176</td>\n",
       "      <td>0.007495</td>\n",
       "      <td>14863000.0</td>\n",
       "      <td>%</td>\n",
       "    </tr>\n",
       "  </tbody>\n",
       "</table>\n",
       "</div>"
      ],
      "text/plain": [
       "                                Country  Alcoholic Beverages  Animal fats  \\\n",
       "165  Venezuela (Bolivarian Republic of)               2.5952       0.0403   \n",
       "166                             Vietnam               1.4591       0.1640   \n",
       "167                               Yemen               0.0364       0.0446   \n",
       "168                              Zambia               5.7360       0.0829   \n",
       "169                            Zimbabwe               4.0552       0.0755   \n",
       "\n",
       "     Animal Products  Aquatic Products, Other  Cereals - Excluding Beer  \\\n",
       "165          14.7565                   0.0000                   12.9253   \n",
       "166           8.5765                   0.0042                   16.8740   \n",
       "167           5.7874                   0.0000                   27.2077   \n",
       "168           6.0197                   0.0000                   21.1938   \n",
       "169           8.1489                   0.0000                   22.6240   \n",
       "\n",
       "       Eggs  Fish, Seafood  Fruits - Excluding Wine    Meat  \\\n",
       "165  0.3389         0.9456                   7.6460  3.8328   \n",
       "166  0.3077         2.6392                   5.9029  4.4382   \n",
       "167  0.2579         0.5240                   5.1344  2.7871   \n",
       "168  0.3399         1.6924                   1.0183  1.8427   \n",
       "169  0.2678         0.5518                   2.2000  2.6142   \n",
       "\n",
       "     Milk - Excluding Butter  Miscellaneous  Offals  Oilcrops  Pulses  Spices  \\\n",
       "165                   9.3920         0.0702  0.2078    0.0281  0.3342  0.0009   \n",
       "166                   0.6069         0.0126  0.4149    0.8410  0.2032  0.2074   \n",
       "167                   1.8911         0.2033  0.2827    0.0893  0.8645  0.0347   \n",
       "168                   1.7570         0.2149  0.3048    1.8736  0.1756  0.0478   \n",
       "169                   4.4310         0.2012  0.2086    0.4498  0.4261  0.0252   \n",
       "\n",
       "     Starchy Roots  Stimulants  Sugar & Sweeteners  Sugar Crops  Treenuts  \\\n",
       "165         2.5643      0.1479              3.4106        0.000    0.0009   \n",
       "166         1.0596      0.2880              1.2846        0.815    0.3070   \n",
       "167         1.0794      0.2199              5.0468        0.000    0.0017   \n",
       "168         7.9649      0.0618              1.5632        0.000    0.0014   \n",
       "169         2.9870      0.1494              4.6485        0.000    0.0518   \n",
       "\n",
       "     Vegetable Oils  Vegetables  Vegetal Products  Obesity Undernourished  \\\n",
       "165          1.3734      4.1474           35.2416     25.2           21.2   \n",
       "166          0.2201     11.9508           41.4232      2.1            9.3   \n",
       "167          1.0811      3.2135           44.2126     14.1           38.9   \n",
       "168          0.6657      3.4649           43.9789      6.5           46.7   \n",
       "169          1.7103      2.3213           41.8526     12.3           51.3   \n",
       "\n",
       "     Confirmed    Deaths  Recovered    Active  Population  \\\n",
       "165   0.041512  0.000391   0.013866  0.027254  28645000.0   \n",
       "166   0.000398  0.000000   0.000371  0.000027  96209000.0   \n",
       "167   0.005385  0.001492   0.002387  0.001505  29826000.0   \n",
       "168   0.016210  0.000653   0.007953  0.007604  18384000.0   \n",
       "169   0.010839  0.000168   0.003176  0.007495  14863000.0   \n",
       "\n",
       "    Unit (all except Population)  \n",
       "165                            %  \n",
       "166                            %  \n",
       "167                            %  \n",
       "168                            %  \n",
       "169                            %  "
      ]
     },
     "execution_count": 6,
     "metadata": {},
     "output_type": "execute_result"
    }
   ],
   "source": [
    "# Prints the bottom 5 rows of the dataset\n",
    "covid_food_data.tail()"
   ]
  },
  {
   "cell_type": "code",
   "execution_count": 7,
   "metadata": {},
   "outputs": [
    {
     "data": {
      "text/html": [
       "<div>\n",
       "<style scoped>\n",
       "    .dataframe tbody tr th:only-of-type {\n",
       "        vertical-align: middle;\n",
       "    }\n",
       "\n",
       "    .dataframe tbody tr th {\n",
       "        vertical-align: top;\n",
       "    }\n",
       "\n",
       "    .dataframe thead th {\n",
       "        text-align: right;\n",
       "    }\n",
       "</style>\n",
       "<table border=\"1\" class=\"dataframe\">\n",
       "  <thead>\n",
       "    <tr style=\"text-align: right;\">\n",
       "      <th></th>\n",
       "      <th>Alcoholic Beverages</th>\n",
       "      <th>Animal fats</th>\n",
       "      <th>Animal Products</th>\n",
       "      <th>Aquatic Products, Other</th>\n",
       "      <th>Cereals - Excluding Beer</th>\n",
       "      <th>Eggs</th>\n",
       "      <th>Fish, Seafood</th>\n",
       "      <th>Fruits - Excluding Wine</th>\n",
       "      <th>Meat</th>\n",
       "      <th>Milk - Excluding Butter</th>\n",
       "      <th>Miscellaneous</th>\n",
       "      <th>Offals</th>\n",
       "      <th>Oilcrops</th>\n",
       "      <th>Pulses</th>\n",
       "      <th>Spices</th>\n",
       "      <th>Starchy Roots</th>\n",
       "      <th>Stimulants</th>\n",
       "      <th>Sugar &amp; Sweeteners</th>\n",
       "      <th>Sugar Crops</th>\n",
       "      <th>Treenuts</th>\n",
       "      <th>Vegetable Oils</th>\n",
       "      <th>Vegetables</th>\n",
       "      <th>Vegetal Products</th>\n",
       "      <th>Obesity</th>\n",
       "      <th>Confirmed</th>\n",
       "      <th>Deaths</th>\n",
       "      <th>Recovered</th>\n",
       "      <th>Active</th>\n",
       "      <th>Population</th>\n",
       "    </tr>\n",
       "  </thead>\n",
       "  <tbody>\n",
       "    <tr>\n",
       "      <th>count</th>\n",
       "      <td>170.000000</td>\n",
       "      <td>170.000000</td>\n",
       "      <td>170.000000</td>\n",
       "      <td>170.000000</td>\n",
       "      <td>170.000000</td>\n",
       "      <td>170.000000</td>\n",
       "      <td>170.000000</td>\n",
       "      <td>170.000000</td>\n",
       "      <td>170.000000</td>\n",
       "      <td>170.000000</td>\n",
       "      <td>170.000000</td>\n",
       "      <td>170.000000</td>\n",
       "      <td>170.000000</td>\n",
       "      <td>170.000000</td>\n",
       "      <td>170.000000</td>\n",
       "      <td>170.000000</td>\n",
       "      <td>170.000000</td>\n",
       "      <td>170.000000</td>\n",
       "      <td>170.000000</td>\n",
       "      <td>170.000000</td>\n",
       "      <td>170.000000</td>\n",
       "      <td>170.000000</td>\n",
       "      <td>170.000000</td>\n",
       "      <td>167.000000</td>\n",
       "      <td>161.000000</td>\n",
       "      <td>161.000000</td>\n",
       "      <td>161.000000</td>\n",
       "      <td>159.000000</td>\n",
       "      <td>1.700000e+02</td>\n",
       "    </tr>\n",
       "    <tr>\n",
       "      <th>mean</th>\n",
       "      <td>3.022971</td>\n",
       "      <td>0.221064</td>\n",
       "      <td>12.181871</td>\n",
       "      <td>0.013994</td>\n",
       "      <td>11.800347</td>\n",
       "      <td>0.470570</td>\n",
       "      <td>1.387195</td>\n",
       "      <td>5.621405</td>\n",
       "      <td>3.375934</td>\n",
       "      <td>6.519776</td>\n",
       "      <td>0.443122</td>\n",
       "      <td>0.193435</td>\n",
       "      <td>0.818120</td>\n",
       "      <td>0.537131</td>\n",
       "      <td>0.091011</td>\n",
       "      <td>5.335371</td>\n",
       "      <td>0.201946</td>\n",
       "      <td>2.799115</td>\n",
       "      <td>0.095846</td>\n",
       "      <td>0.117474</td>\n",
       "      <td>0.851554</td>\n",
       "      <td>6.085912</td>\n",
       "      <td>37.814834</td>\n",
       "      <td>18.707784</td>\n",
       "      <td>0.219348</td>\n",
       "      <td>0.007617</td>\n",
       "      <td>0.138154</td>\n",
       "      <td>0.069656</td>\n",
       "      <td>4.452364e+07</td>\n",
       "    </tr>\n",
       "    <tr>\n",
       "      <th>std</th>\n",
       "      <td>2.382243</td>\n",
       "      <td>0.278304</td>\n",
       "      <td>5.852635</td>\n",
       "      <td>0.129382</td>\n",
       "      <td>5.824870</td>\n",
       "      <td>0.331209</td>\n",
       "      <td>1.257382</td>\n",
       "      <td>3.152849</td>\n",
       "      <td>1.762911</td>\n",
       "      <td>5.020379</td>\n",
       "      <td>0.685727</td>\n",
       "      <td>0.159634</td>\n",
       "      <td>1.772273</td>\n",
       "      <td>0.601111</td>\n",
       "      <td>0.121898</td>\n",
       "      <td>5.571355</td>\n",
       "      <td>0.189239</td>\n",
       "      <td>1.545951</td>\n",
       "      <td>0.379936</td>\n",
       "      <td>0.146143</td>\n",
       "      <td>0.445335</td>\n",
       "      <td>3.560148</td>\n",
       "      <td>5.852943</td>\n",
       "      <td>9.633557</td>\n",
       "      <td>0.308249</td>\n",
       "      <td>0.014153</td>\n",
       "      <td>0.223507</td>\n",
       "      <td>0.113325</td>\n",
       "      <td>1.564182e+08</td>\n",
       "    </tr>\n",
       "    <tr>\n",
       "      <th>min</th>\n",
       "      <td>0.000000</td>\n",
       "      <td>0.001000</td>\n",
       "      <td>1.739100</td>\n",
       "      <td>0.000000</td>\n",
       "      <td>3.401400</td>\n",
       "      <td>0.023900</td>\n",
       "      <td>0.034200</td>\n",
       "      <td>0.659600</td>\n",
       "      <td>0.356000</td>\n",
       "      <td>0.096300</td>\n",
       "      <td>0.000000</td>\n",
       "      <td>0.000000</td>\n",
       "      <td>0.009800</td>\n",
       "      <td>0.000000</td>\n",
       "      <td>0.000000</td>\n",
       "      <td>0.679600</td>\n",
       "      <td>0.004200</td>\n",
       "      <td>0.366600</td>\n",
       "      <td>0.000000</td>\n",
       "      <td>0.000000</td>\n",
       "      <td>0.091500</td>\n",
       "      <td>0.857000</td>\n",
       "      <td>23.113200</td>\n",
       "      <td>2.100000</td>\n",
       "      <td>0.000262</td>\n",
       "      <td>0.000000</td>\n",
       "      <td>0.000000</td>\n",
       "      <td>0.000000</td>\n",
       "      <td>5.400000e+04</td>\n",
       "    </tr>\n",
       "    <tr>\n",
       "      <th>25%</th>\n",
       "      <td>0.895625</td>\n",
       "      <td>0.040225</td>\n",
       "      <td>7.236850</td>\n",
       "      <td>0.000000</td>\n",
       "      <td>7.226850</td>\n",
       "      <td>0.187575</td>\n",
       "      <td>0.557100</td>\n",
       "      <td>3.541950</td>\n",
       "      <td>1.891475</td>\n",
       "      <td>2.172250</td>\n",
       "      <td>0.032325</td>\n",
       "      <td>0.105050</td>\n",
       "      <td>0.134075</td>\n",
       "      <td>0.129650</td>\n",
       "      <td>0.016500</td>\n",
       "      <td>2.023825</td>\n",
       "      <td>0.083325</td>\n",
       "      <td>1.721025</td>\n",
       "      <td>0.000000</td>\n",
       "      <td>0.020750</td>\n",
       "      <td>0.507700</td>\n",
       "      <td>3.616500</td>\n",
       "      <td>33.552775</td>\n",
       "      <td>8.500000</td>\n",
       "      <td>0.024946</td>\n",
       "      <td>0.000391</td>\n",
       "      <td>0.010558</td>\n",
       "      <td>0.003618</td>\n",
       "      <td>2.816250e+06</td>\n",
       "    </tr>\n",
       "    <tr>\n",
       "      <th>50%</th>\n",
       "      <td>2.866150</td>\n",
       "      <td>0.116850</td>\n",
       "      <td>12.097550</td>\n",
       "      <td>0.000000</td>\n",
       "      <td>10.142750</td>\n",
       "      <td>0.460150</td>\n",
       "      <td>1.029250</td>\n",
       "      <td>5.021250</td>\n",
       "      <td>3.424750</td>\n",
       "      <td>5.336900</td>\n",
       "      <td>0.196850</td>\n",
       "      <td>0.166800</td>\n",
       "      <td>0.326650</td>\n",
       "      <td>0.300800</td>\n",
       "      <td>0.042550</td>\n",
       "      <td>3.108650</td>\n",
       "      <td>0.159450</td>\n",
       "      <td>2.601650</td>\n",
       "      <td>0.000000</td>\n",
       "      <td>0.079950</td>\n",
       "      <td>0.774450</td>\n",
       "      <td>5.028100</td>\n",
       "      <td>37.900700</td>\n",
       "      <td>21.200000</td>\n",
       "      <td>0.079866</td>\n",
       "      <td>0.001902</td>\n",
       "      <td>0.041671</td>\n",
       "      <td>0.015089</td>\n",
       "      <td>1.018150e+07</td>\n",
       "    </tr>\n",
       "    <tr>\n",
       "      <th>75%</th>\n",
       "      <td>4.710950</td>\n",
       "      <td>0.253900</td>\n",
       "      <td>16.444125</td>\n",
       "      <td>0.001400</td>\n",
       "      <td>15.148950</td>\n",
       "      <td>0.644150</td>\n",
       "      <td>1.821275</td>\n",
       "      <td>6.827750</td>\n",
       "      <td>4.422450</td>\n",
       "      <td>10.407100</td>\n",
       "      <td>0.583625</td>\n",
       "      <td>0.228575</td>\n",
       "      <td>0.691675</td>\n",
       "      <td>0.734900</td>\n",
       "      <td>0.123150</td>\n",
       "      <td>5.745875</td>\n",
       "      <td>0.261800</td>\n",
       "      <td>3.782150</td>\n",
       "      <td>0.000000</td>\n",
       "      <td>0.148650</td>\n",
       "      <td>1.070900</td>\n",
       "      <td>7.801650</td>\n",
       "      <td>42.762775</td>\n",
       "      <td>25.700000</td>\n",
       "      <td>0.300331</td>\n",
       "      <td>0.006747</td>\n",
       "      <td>0.175000</td>\n",
       "      <td>0.077692</td>\n",
       "      <td>3.271625e+07</td>\n",
       "    </tr>\n",
       "    <tr>\n",
       "      <th>max</th>\n",
       "      <td>15.370600</td>\n",
       "      <td>1.355900</td>\n",
       "      <td>26.886500</td>\n",
       "      <td>1.679400</td>\n",
       "      <td>29.804500</td>\n",
       "      <td>1.696000</td>\n",
       "      <td>8.795900</td>\n",
       "      <td>19.302800</td>\n",
       "      <td>8.170000</td>\n",
       "      <td>20.837800</td>\n",
       "      <td>3.663400</td>\n",
       "      <td>1.225600</td>\n",
       "      <td>12.176300</td>\n",
       "      <td>3.483800</td>\n",
       "      <td>0.662600</td>\n",
       "      <td>27.712800</td>\n",
       "      <td>1.282300</td>\n",
       "      <td>9.725900</td>\n",
       "      <td>3.067700</td>\n",
       "      <td>0.756900</td>\n",
       "      <td>2.202600</td>\n",
       "      <td>19.299500</td>\n",
       "      <td>48.258500</td>\n",
       "      <td>45.600000</td>\n",
       "      <td>1.699692</td>\n",
       "      <td>0.085106</td>\n",
       "      <td>1.550046</td>\n",
       "      <td>0.690585</td>\n",
       "      <td>1.402385e+09</td>\n",
       "    </tr>\n",
       "  </tbody>\n",
       "</table>\n",
       "</div>"
      ],
      "text/plain": [
       "       Alcoholic Beverages  Animal fats  Animal Products  \\\n",
       "count           170.000000   170.000000       170.000000   \n",
       "mean              3.022971     0.221064        12.181871   \n",
       "std               2.382243     0.278304         5.852635   \n",
       "min               0.000000     0.001000         1.739100   \n",
       "25%               0.895625     0.040225         7.236850   \n",
       "50%               2.866150     0.116850        12.097550   \n",
       "75%               4.710950     0.253900        16.444125   \n",
       "max              15.370600     1.355900        26.886500   \n",
       "\n",
       "       Aquatic Products, Other  Cereals - Excluding Beer        Eggs  \\\n",
       "count               170.000000                170.000000  170.000000   \n",
       "mean                  0.013994                 11.800347    0.470570   \n",
       "std                   0.129382                  5.824870    0.331209   \n",
       "min                   0.000000                  3.401400    0.023900   \n",
       "25%                   0.000000                  7.226850    0.187575   \n",
       "50%                   0.000000                 10.142750    0.460150   \n",
       "75%                   0.001400                 15.148950    0.644150   \n",
       "max                   1.679400                 29.804500    1.696000   \n",
       "\n",
       "       Fish, Seafood  Fruits - Excluding Wine        Meat  \\\n",
       "count     170.000000               170.000000  170.000000   \n",
       "mean        1.387195                 5.621405    3.375934   \n",
       "std         1.257382                 3.152849    1.762911   \n",
       "min         0.034200                 0.659600    0.356000   \n",
       "25%         0.557100                 3.541950    1.891475   \n",
       "50%         1.029250                 5.021250    3.424750   \n",
       "75%         1.821275                 6.827750    4.422450   \n",
       "max         8.795900                19.302800    8.170000   \n",
       "\n",
       "       Milk - Excluding Butter  Miscellaneous      Offals    Oilcrops  \\\n",
       "count               170.000000     170.000000  170.000000  170.000000   \n",
       "mean                  6.519776       0.443122    0.193435    0.818120   \n",
       "std                   5.020379       0.685727    0.159634    1.772273   \n",
       "min                   0.096300       0.000000    0.000000    0.009800   \n",
       "25%                   2.172250       0.032325    0.105050    0.134075   \n",
       "50%                   5.336900       0.196850    0.166800    0.326650   \n",
       "75%                  10.407100       0.583625    0.228575    0.691675   \n",
       "max                  20.837800       3.663400    1.225600   12.176300   \n",
       "\n",
       "           Pulses      Spices  Starchy Roots  Stimulants  Sugar & Sweeteners  \\\n",
       "count  170.000000  170.000000     170.000000  170.000000          170.000000   \n",
       "mean     0.537131    0.091011       5.335371    0.201946            2.799115   \n",
       "std      0.601111    0.121898       5.571355    0.189239            1.545951   \n",
       "min      0.000000    0.000000       0.679600    0.004200            0.366600   \n",
       "25%      0.129650    0.016500       2.023825    0.083325            1.721025   \n",
       "50%      0.300800    0.042550       3.108650    0.159450            2.601650   \n",
       "75%      0.734900    0.123150       5.745875    0.261800            3.782150   \n",
       "max      3.483800    0.662600      27.712800    1.282300            9.725900   \n",
       "\n",
       "       Sugar Crops    Treenuts  Vegetable Oils  Vegetables  Vegetal Products  \\\n",
       "count   170.000000  170.000000      170.000000  170.000000        170.000000   \n",
       "mean      0.095846    0.117474        0.851554    6.085912         37.814834   \n",
       "std       0.379936    0.146143        0.445335    3.560148          5.852943   \n",
       "min       0.000000    0.000000        0.091500    0.857000         23.113200   \n",
       "25%       0.000000    0.020750        0.507700    3.616500         33.552775   \n",
       "50%       0.000000    0.079950        0.774450    5.028100         37.900700   \n",
       "75%       0.000000    0.148650        1.070900    7.801650         42.762775   \n",
       "max       3.067700    0.756900        2.202600   19.299500         48.258500   \n",
       "\n",
       "          Obesity   Confirmed      Deaths   Recovered      Active  \\\n",
       "count  167.000000  161.000000  161.000000  161.000000  159.000000   \n",
       "mean    18.707784    0.219348    0.007617    0.138154    0.069656   \n",
       "std      9.633557    0.308249    0.014153    0.223507    0.113325   \n",
       "min      2.100000    0.000262    0.000000    0.000000    0.000000   \n",
       "25%      8.500000    0.024946    0.000391    0.010558    0.003618   \n",
       "50%     21.200000    0.079866    0.001902    0.041671    0.015089   \n",
       "75%     25.700000    0.300331    0.006747    0.175000    0.077692   \n",
       "max     45.600000    1.699692    0.085106    1.550046    0.690585   \n",
       "\n",
       "         Population  \n",
       "count  1.700000e+02  \n",
       "mean   4.452364e+07  \n",
       "std    1.564182e+08  \n",
       "min    5.400000e+04  \n",
       "25%    2.816250e+06  \n",
       "50%    1.018150e+07  \n",
       "75%    3.271625e+07  \n",
       "max    1.402385e+09  "
      ]
     },
     "execution_count": 7,
     "metadata": {},
     "output_type": "execute_result"
    }
   ],
   "source": [
    "# checking the statistical summary of the dataset \n",
    "covid_food_data.describe()"
   ]
  },
  {
   "cell_type": "markdown",
   "metadata": {},
   "source": [
    "## Data Cleaning and Pre-processing"
   ]
  },
  {
   "cell_type": "markdown",
   "metadata": {},
   "source": [
    "#### Looking for the missing values in the dataset"
   ]
  },
  {
   "cell_type": "code",
   "execution_count": 8,
   "metadata": {},
   "outputs": [
    {
     "data": {
      "text/plain": [
       "Country                          0\n",
       "Alcoholic Beverages              0\n",
       "Animal fats                      0\n",
       "Animal Products                  0\n",
       "Aquatic Products, Other          0\n",
       "Cereals - Excluding Beer         0\n",
       "Eggs                             0\n",
       "Fish, Seafood                    0\n",
       "Fruits - Excluding Wine          0\n",
       "Meat                             0\n",
       "Milk - Excluding Butter          0\n",
       "Miscellaneous                    0\n",
       "Offals                           0\n",
       "Oilcrops                         0\n",
       "Pulses                           0\n",
       "Spices                           0\n",
       "Starchy Roots                    0\n",
       "Stimulants                       0\n",
       "Sugar & Sweeteners               0\n",
       "Sugar Crops                      0\n",
       "Treenuts                         0\n",
       "Vegetable Oils                   0\n",
       "Vegetables                       0\n",
       "Vegetal Products                 0\n",
       "Obesity                          3\n",
       "Undernourished                   7\n",
       "Confirmed                        9\n",
       "Deaths                           9\n",
       "Recovered                        9\n",
       "Active                          11\n",
       "Population                       0\n",
       "Unit (all except Population)     0\n",
       "dtype: int64"
      ]
     },
     "execution_count": 8,
     "metadata": {},
     "output_type": "execute_result"
    }
   ],
   "source": [
    "#Check for nulls in the dataset and count for the number of nulls\n",
    "covid_food_data.isna().sum()"
   ]
  },
  {
   "cell_type": "markdown",
   "metadata": {},
   "source": [
    "#### Handling missing values in the columns Obesity and Undernourished"
   ]
  },
  {
   "cell_type": "code",
   "execution_count": 9,
   "metadata": {},
   "outputs": [],
   "source": [
    "#manupilating the column missing values with their mean\n",
    "#the missing values of obesity cannot be zero so its replaced by the mean of the column\n",
    "covid_food_data['Obesity'].fillna((covid_food_data['Obesity'].mean()), inplace=True)\n",
    "\n",
    "# the column Undernourished is of type 'object' and it has entries '<2.5'\n",
    "#replacing <2.5 with 2.5 and changing the object type to float\n",
    "covid_food_data['Undernourished'] = covid_food_data['Undernourished'].replace(['<2.5'],2.5)\n",
    "covid_food_data['Undernourished'] = covid_food_data['Undernourished'].astype('float64') \n",
    "covid_food_data['Undernourished'].dtype\n",
    "\n",
    "# replacing the missing values with the mean\n",
    "covid_food_data['Undernourished'].fillna((covid_food_data['Undernourished'].mean()), inplace=True)"
   ]
  },
  {
   "cell_type": "markdown",
   "metadata": {},
   "source": [
    "#### Handling missing values in the column  Confirmed, Deaths, Recovered"
   ]
  },
  {
   "cell_type": "code",
   "execution_count": 10,
   "metadata": {},
   "outputs": [],
   "source": [
    "# dropping rows that has missing values for confirmed deaths and recovered columns. \n",
    "# Since most of them are geographically dispersed islands and are not affected by covid\n",
    "covid_food_data.dropna(axis=0,subset = ['Confirmed', 'Deaths'], inplace=True)\n",
    "covid_food_data.reset_index(drop=True, inplace=True)"
   ]
  },
  {
   "cell_type": "markdown",
   "metadata": {},
   "source": [
    "#### Handling missing values in the column Active\n",
    "#### The data for confirmed COVID cases, deaths, and recovered are available (not missing) in the data, so we replaced the missing values in the 'Active' column appropriately by subtracting the confirmed cases by deaths and recovered"
   ]
  },
  {
   "cell_type": "code",
   "execution_count": 11,
   "metadata": {},
   "outputs": [
    {
     "data": {
      "text/plain": [
       "Country                         0\n",
       "Alcoholic Beverages             0\n",
       "Animal fats                     0\n",
       "Animal Products                 0\n",
       "Aquatic Products, Other         0\n",
       "Cereals - Excluding Beer        0\n",
       "Eggs                            0\n",
       "Fish, Seafood                   0\n",
       "Fruits - Excluding Wine         0\n",
       "Meat                            0\n",
       "Milk - Excluding Butter         0\n",
       "Miscellaneous                   0\n",
       "Offals                          0\n",
       "Oilcrops                        0\n",
       "Pulses                          0\n",
       "Spices                          0\n",
       "Starchy Roots                   0\n",
       "Stimulants                      0\n",
       "Sugar & Sweeteners              0\n",
       "Sugar Crops                     0\n",
       "Treenuts                        0\n",
       "Vegetable Oils                  0\n",
       "Vegetables                      0\n",
       "Vegetal Products                0\n",
       "Obesity                         0\n",
       "Undernourished                  0\n",
       "Confirmed                       0\n",
       "Deaths                          0\n",
       "Recovered                       0\n",
       "Active                          0\n",
       "Population                      0\n",
       "Unit (all except Population)    0\n",
       "dtype: int64"
      ]
     },
     "execution_count": 11,
     "metadata": {},
     "output_type": "execute_result"
    }
   ],
   "source": [
    "# handling the missing values for 'Active'\n",
    "# we have the confirmed covid cases, deaths and recovered\n",
    "# Replacing the missing values in the 'Active' column appropriately\n",
    "missing_active_cases = covid_food_data['Confirmed'] - covid_food_data['Deaths'] - covid_food_data['Recovered']\n",
    "covid_food_data['Active'].fillna(missing_active_cases, inplace=True) \n",
    "covid_food_data.isna().sum()"
   ]
  },
  {
   "cell_type": "code",
   "execution_count": 12,
   "metadata": {
    "scrolled": true
   },
   "outputs": [
    {
     "data": {
      "text/html": [
       "<div>\n",
       "<style scoped>\n",
       "    .dataframe tbody tr th:only-of-type {\n",
       "        vertical-align: middle;\n",
       "    }\n",
       "\n",
       "    .dataframe tbody tr th {\n",
       "        vertical-align: top;\n",
       "    }\n",
       "\n",
       "    .dataframe thead th {\n",
       "        text-align: right;\n",
       "    }\n",
       "</style>\n",
       "<table border=\"1\" class=\"dataframe\">\n",
       "  <thead>\n",
       "    <tr style=\"text-align: right;\">\n",
       "      <th></th>\n",
       "      <th>Country</th>\n",
       "      <th>Alcoholic Beverages</th>\n",
       "      <th>Animal fats</th>\n",
       "      <th>Animal Products</th>\n",
       "      <th>Aquatic Products, Other</th>\n",
       "      <th>Cereals - Excluding Beer</th>\n",
       "      <th>Eggs</th>\n",
       "      <th>Fish, Seafood</th>\n",
       "      <th>Fruits - Excluding Wine</th>\n",
       "      <th>Meat</th>\n",
       "      <th>Milk - Excluding Butter</th>\n",
       "      <th>Miscellaneous</th>\n",
       "      <th>Offals</th>\n",
       "      <th>Oilcrops</th>\n",
       "      <th>Pulses</th>\n",
       "      <th>Spices</th>\n",
       "      <th>Starchy Roots</th>\n",
       "      <th>Stimulants</th>\n",
       "      <th>Sugar &amp; Sweeteners</th>\n",
       "      <th>Sugar Crops</th>\n",
       "      <th>Treenuts</th>\n",
       "      <th>Vegetable Oils</th>\n",
       "      <th>Vegetables</th>\n",
       "      <th>Vegetal Products</th>\n",
       "      <th>Obesity</th>\n",
       "      <th>Undernourished</th>\n",
       "      <th>Confirmed</th>\n",
       "      <th>Deaths</th>\n",
       "      <th>Recovered</th>\n",
       "      <th>Active</th>\n",
       "      <th>Population</th>\n",
       "      <th>Unit (all except Population)</th>\n",
       "    </tr>\n",
       "  </thead>\n",
       "  <tbody>\n",
       "    <tr>\n",
       "      <th>156</th>\n",
       "      <td>Venezuela (Bolivarian Republic of)</td>\n",
       "      <td>2.5952</td>\n",
       "      <td>0.0403</td>\n",
       "      <td>14.7565</td>\n",
       "      <td>0.0000</td>\n",
       "      <td>12.9253</td>\n",
       "      <td>0.3389</td>\n",
       "      <td>0.9456</td>\n",
       "      <td>7.6460</td>\n",
       "      <td>3.8328</td>\n",
       "      <td>9.3920</td>\n",
       "      <td>0.0702</td>\n",
       "      <td>0.2078</td>\n",
       "      <td>0.0281</td>\n",
       "      <td>0.3342</td>\n",
       "      <td>0.0009</td>\n",
       "      <td>2.5643</td>\n",
       "      <td>0.1479</td>\n",
       "      <td>3.4106</td>\n",
       "      <td>0.000</td>\n",
       "      <td>0.0009</td>\n",
       "      <td>1.3734</td>\n",
       "      <td>4.1474</td>\n",
       "      <td>35.2416</td>\n",
       "      <td>25.2</td>\n",
       "      <td>21.2</td>\n",
       "      <td>0.041512</td>\n",
       "      <td>0.000391</td>\n",
       "      <td>0.013866</td>\n",
       "      <td>0.027254</td>\n",
       "      <td>28645000.0</td>\n",
       "      <td>%</td>\n",
       "    </tr>\n",
       "    <tr>\n",
       "      <th>157</th>\n",
       "      <td>Vietnam</td>\n",
       "      <td>1.4591</td>\n",
       "      <td>0.1640</td>\n",
       "      <td>8.5765</td>\n",
       "      <td>0.0042</td>\n",
       "      <td>16.8740</td>\n",
       "      <td>0.3077</td>\n",
       "      <td>2.6392</td>\n",
       "      <td>5.9029</td>\n",
       "      <td>4.4382</td>\n",
       "      <td>0.6069</td>\n",
       "      <td>0.0126</td>\n",
       "      <td>0.4149</td>\n",
       "      <td>0.8410</td>\n",
       "      <td>0.2032</td>\n",
       "      <td>0.2074</td>\n",
       "      <td>1.0596</td>\n",
       "      <td>0.2880</td>\n",
       "      <td>1.2846</td>\n",
       "      <td>0.815</td>\n",
       "      <td>0.3070</td>\n",
       "      <td>0.2201</td>\n",
       "      <td>11.9508</td>\n",
       "      <td>41.4232</td>\n",
       "      <td>2.1</td>\n",
       "      <td>9.3</td>\n",
       "      <td>0.000398</td>\n",
       "      <td>0.000000</td>\n",
       "      <td>0.000371</td>\n",
       "      <td>0.000027</td>\n",
       "      <td>96209000.0</td>\n",
       "      <td>%</td>\n",
       "    </tr>\n",
       "    <tr>\n",
       "      <th>158</th>\n",
       "      <td>Yemen</td>\n",
       "      <td>0.0364</td>\n",
       "      <td>0.0446</td>\n",
       "      <td>5.7874</td>\n",
       "      <td>0.0000</td>\n",
       "      <td>27.2077</td>\n",
       "      <td>0.2579</td>\n",
       "      <td>0.5240</td>\n",
       "      <td>5.1344</td>\n",
       "      <td>2.7871</td>\n",
       "      <td>1.8911</td>\n",
       "      <td>0.2033</td>\n",
       "      <td>0.2827</td>\n",
       "      <td>0.0893</td>\n",
       "      <td>0.8645</td>\n",
       "      <td>0.0347</td>\n",
       "      <td>1.0794</td>\n",
       "      <td>0.2199</td>\n",
       "      <td>5.0468</td>\n",
       "      <td>0.000</td>\n",
       "      <td>0.0017</td>\n",
       "      <td>1.0811</td>\n",
       "      <td>3.2135</td>\n",
       "      <td>44.2126</td>\n",
       "      <td>14.1</td>\n",
       "      <td>38.9</td>\n",
       "      <td>0.005385</td>\n",
       "      <td>0.001492</td>\n",
       "      <td>0.002387</td>\n",
       "      <td>0.001505</td>\n",
       "      <td>29826000.0</td>\n",
       "      <td>%</td>\n",
       "    </tr>\n",
       "    <tr>\n",
       "      <th>159</th>\n",
       "      <td>Zambia</td>\n",
       "      <td>5.7360</td>\n",
       "      <td>0.0829</td>\n",
       "      <td>6.0197</td>\n",
       "      <td>0.0000</td>\n",
       "      <td>21.1938</td>\n",
       "      <td>0.3399</td>\n",
       "      <td>1.6924</td>\n",
       "      <td>1.0183</td>\n",
       "      <td>1.8427</td>\n",
       "      <td>1.7570</td>\n",
       "      <td>0.2149</td>\n",
       "      <td>0.3048</td>\n",
       "      <td>1.8736</td>\n",
       "      <td>0.1756</td>\n",
       "      <td>0.0478</td>\n",
       "      <td>7.9649</td>\n",
       "      <td>0.0618</td>\n",
       "      <td>1.5632</td>\n",
       "      <td>0.000</td>\n",
       "      <td>0.0014</td>\n",
       "      <td>0.6657</td>\n",
       "      <td>3.4649</td>\n",
       "      <td>43.9789</td>\n",
       "      <td>6.5</td>\n",
       "      <td>46.7</td>\n",
       "      <td>0.016210</td>\n",
       "      <td>0.000653</td>\n",
       "      <td>0.007953</td>\n",
       "      <td>0.007604</td>\n",
       "      <td>18384000.0</td>\n",
       "      <td>%</td>\n",
       "    </tr>\n",
       "    <tr>\n",
       "      <th>160</th>\n",
       "      <td>Zimbabwe</td>\n",
       "      <td>4.0552</td>\n",
       "      <td>0.0755</td>\n",
       "      <td>8.1489</td>\n",
       "      <td>0.0000</td>\n",
       "      <td>22.6240</td>\n",
       "      <td>0.2678</td>\n",
       "      <td>0.5518</td>\n",
       "      <td>2.2000</td>\n",
       "      <td>2.6142</td>\n",
       "      <td>4.4310</td>\n",
       "      <td>0.2012</td>\n",
       "      <td>0.2086</td>\n",
       "      <td>0.4498</td>\n",
       "      <td>0.4261</td>\n",
       "      <td>0.0252</td>\n",
       "      <td>2.9870</td>\n",
       "      <td>0.1494</td>\n",
       "      <td>4.6485</td>\n",
       "      <td>0.000</td>\n",
       "      <td>0.0518</td>\n",
       "      <td>1.7103</td>\n",
       "      <td>2.3213</td>\n",
       "      <td>41.8526</td>\n",
       "      <td>12.3</td>\n",
       "      <td>51.3</td>\n",
       "      <td>0.010839</td>\n",
       "      <td>0.000168</td>\n",
       "      <td>0.003176</td>\n",
       "      <td>0.007495</td>\n",
       "      <td>14863000.0</td>\n",
       "      <td>%</td>\n",
       "    </tr>\n",
       "  </tbody>\n",
       "</table>\n",
       "</div>"
      ],
      "text/plain": [
       "                                Country  Alcoholic Beverages  Animal fats  \\\n",
       "156  Venezuela (Bolivarian Republic of)               2.5952       0.0403   \n",
       "157                             Vietnam               1.4591       0.1640   \n",
       "158                               Yemen               0.0364       0.0446   \n",
       "159                              Zambia               5.7360       0.0829   \n",
       "160                            Zimbabwe               4.0552       0.0755   \n",
       "\n",
       "     Animal Products  Aquatic Products, Other  Cereals - Excluding Beer  \\\n",
       "156          14.7565                   0.0000                   12.9253   \n",
       "157           8.5765                   0.0042                   16.8740   \n",
       "158           5.7874                   0.0000                   27.2077   \n",
       "159           6.0197                   0.0000                   21.1938   \n",
       "160           8.1489                   0.0000                   22.6240   \n",
       "\n",
       "       Eggs  Fish, Seafood  Fruits - Excluding Wine    Meat  \\\n",
       "156  0.3389         0.9456                   7.6460  3.8328   \n",
       "157  0.3077         2.6392                   5.9029  4.4382   \n",
       "158  0.2579         0.5240                   5.1344  2.7871   \n",
       "159  0.3399         1.6924                   1.0183  1.8427   \n",
       "160  0.2678         0.5518                   2.2000  2.6142   \n",
       "\n",
       "     Milk - Excluding Butter  Miscellaneous  Offals  Oilcrops  Pulses  Spices  \\\n",
       "156                   9.3920         0.0702  0.2078    0.0281  0.3342  0.0009   \n",
       "157                   0.6069         0.0126  0.4149    0.8410  0.2032  0.2074   \n",
       "158                   1.8911         0.2033  0.2827    0.0893  0.8645  0.0347   \n",
       "159                   1.7570         0.2149  0.3048    1.8736  0.1756  0.0478   \n",
       "160                   4.4310         0.2012  0.2086    0.4498  0.4261  0.0252   \n",
       "\n",
       "     Starchy Roots  Stimulants  Sugar & Sweeteners  Sugar Crops  Treenuts  \\\n",
       "156         2.5643      0.1479              3.4106        0.000    0.0009   \n",
       "157         1.0596      0.2880              1.2846        0.815    0.3070   \n",
       "158         1.0794      0.2199              5.0468        0.000    0.0017   \n",
       "159         7.9649      0.0618              1.5632        0.000    0.0014   \n",
       "160         2.9870      0.1494              4.6485        0.000    0.0518   \n",
       "\n",
       "     Vegetable Oils  Vegetables  Vegetal Products  Obesity  Undernourished  \\\n",
       "156          1.3734      4.1474           35.2416     25.2            21.2   \n",
       "157          0.2201     11.9508           41.4232      2.1             9.3   \n",
       "158          1.0811      3.2135           44.2126     14.1            38.9   \n",
       "159          0.6657      3.4649           43.9789      6.5            46.7   \n",
       "160          1.7103      2.3213           41.8526     12.3            51.3   \n",
       "\n",
       "     Confirmed    Deaths  Recovered    Active  Population  \\\n",
       "156   0.041512  0.000391   0.013866  0.027254  28645000.0   \n",
       "157   0.000398  0.000000   0.000371  0.000027  96209000.0   \n",
       "158   0.005385  0.001492   0.002387  0.001505  29826000.0   \n",
       "159   0.016210  0.000653   0.007953  0.007604  18384000.0   \n",
       "160   0.010839  0.000168   0.003176  0.007495  14863000.0   \n",
       "\n",
       "    Unit (all except Population)  \n",
       "156                            %  \n",
       "157                            %  \n",
       "158                            %  \n",
       "159                            %  \n",
       "160                            %  "
      ]
     },
     "execution_count": 12,
     "metadata": {},
     "output_type": "execute_result"
    }
   ],
   "source": [
    "# Prints the bottom 5 rows of the dataset\n",
    "covid_food_data.tail()"
   ]
  },
  {
   "cell_type": "markdown",
   "metadata": {},
   "source": [
    "#### To find out which food products is highly consumed by the population all over the world"
   ]
  },
  {
   "cell_type": "code",
   "execution_count": 13,
   "metadata": {},
   "outputs": [
    {
     "name": "stdout",
     "output_type": "stream",
     "text": [
      "(32, 161)\n"
     ]
    }
   ],
   "source": [
    "# taking the transpose of the dataset\n",
    "covid_food_data_transpose = covid_food_data.transpose()\n",
    "print(covid_food_data_transpose.shape)\n"
   ]
  },
  {
   "cell_type": "code",
   "execution_count": 14,
   "metadata": {},
   "outputs": [
    {
     "data": {
      "image/png": "[encoded data removed]",
      "text/plain": [
       "<Figure size 1080x576 with 1 Axes>"
      ]
     },
     "metadata": {
      "needs_background": "light"
     },
     "output_type": "display_data"
    }
   ],
   "source": [
    "# extracting the sum of population of all the countries\n",
    "population = covid_food_data_transpose[30:31].sum(axis = 1)\n",
    "# extracting the sum of all products\n",
    "food_products_percentage = covid_food_data_transpose[1:24].sum(axis =1, skipna = True)\n",
    "# caluculating the actual values of the products\n",
    "food_products_population = (food_products_percentage * population.values)/100\n",
    "barplot = food_products_population.sort_values(ascending=False).plot(kind='bar',width = 0.8, figsize=(15, 8), color = 'lightseagreen')"
   ]
  },
  {
   "cell_type": "markdown",
   "metadata": {},
   "source": [
    "#### It is observed that all the animal generated products specifically 'Animal fats', 'Aquatic Products, Other','Eggs','Fish, Seafood', 'Meat', 'Milk - Excluding Butter', 'Offals' together add up to the column Animal Products.\n",
    "#### Similarly tree or plant generated products add up to the 'Vegetal Products' column\n",
    "#### Confirming the same with the below code"
   ]
  },
  {
   "cell_type": "code",
   "execution_count": 15,
   "metadata": {},
   "outputs": [
    {
     "name": "stdout",
     "output_type": "stream",
     "text": [
      "Both the columns are same - Animal Products\n",
      "Both the columns are same - Vegetable Products\n"
     ]
    }
   ],
   "source": [
    "# Step1 : summing all the columns and storing them in a new column 'Summing Animal related Products'\n",
    "covid_food_data['Summing Animal related Products'] = covid_food_data['Animal fats'] + covid_food_data['Aquatic Products, Other'] + covid_food_data['Eggs'] + covid_food_data['Fish, Seafood'] + covid_food_data['Meat'] + covid_food_data['Milk - Excluding Butter'] + covid_food_data['Offals']\n",
    "covid_food_data['Animal Products'] = np.round(covid_food_data['Animal Products'], decimals=2)\n",
    "covid_food_data['Summing Animal related Products'] = np.round(covid_food_data['Summing Animal related Products'], decimals=2)\n",
    "covid_food_data.tail()\n",
    "\n",
    "# Step2 : After aggregating, cross checking with the Animal Products column\n",
    "if (covid_food_data['Animal Products'].all() == covid_food_data['Summing Animal related Products'].all()):\n",
    "    print('Both the columns are same - Animal Products')\n",
    "else:\n",
    "    print('Both the columns are not same - Animal Products')\n",
    "    \n",
    "# Step3 : Performing a similar analysis on the tree or plant generated products and 'vegetal Products' column\n",
    "covid_food_data['Summing vegetable related Products'] = covid_food_data['Alcoholic Beverages'] + covid_food_data['Cereals - Excluding Beer'] + covid_food_data['Fruits - Excluding Wine'] + covid_food_data['Miscellaneous'] + covid_food_data['Oilcrops'] + covid_food_data['Pulses'] + covid_food_data['Spices'] + covid_food_data['Starchy Roots'] + covid_food_data['Stimulants'] + covid_food_data['Sugar & Sweeteners'] + covid_food_data['Sugar Crops'] + covid_food_data['Treenuts'] + covid_food_data['Vegetable Oils'] + covid_food_data['Vegetables']\n",
    "covid_food_data['Vegetal Products'] = np.round(covid_food_data['Vegetal Products'], decimals=2)\n",
    "covid_food_data['Summing vegetable related Products'] = np.round(covid_food_data['Summing vegetable related Products'], decimals=2)\n",
    "covid_food_data.tail()\n",
    "\n",
    "if (covid_food_data['Vegetal Products'].all() == covid_food_data['Summing vegetable related Products'].all()):\n",
    "    print('Both the columns are same - Vegetable Products')\n",
    "else:\n",
    "    print('Both the columns are not same - Vegetable Products')"
   ]
  },
  {
   "cell_type": "markdown",
   "metadata": {},
   "source": [
    "#### Dropping the column Unit (all except Population) as it doesn't specify anything in detail"
   ]
  },
  {
   "cell_type": "code",
   "execution_count": 16,
   "metadata": {},
   "outputs": [],
   "source": [
    "#Unit (all except Population) column does not have any values - This can be deleted\n",
    "covid_food_data = covid_food_data.drop(['Unit (all except Population)'], axis=1)"
   ]
  },
  {
   "cell_type": "markdown",
   "metadata": {},
   "source": [
    "#### From the above observation, it is clear that the animal generated products like meat, milk , eggs etc. add up to the 'Animal Products' column and\n",
    "#### Tree or plant generated products like Pulses, Cereals etc. including alcohol add up to the 'Vegetal Products' column\n",
    "#### So, for further analysis taking only the Country, Animal Products, Vegetal Products, Obesity, Undernourished, Confirmed, Deaths, Recovered, Active, Population into consideration. Moreover, it is observed that Cereals - Excluding Beer is the highly consumed product. So, including this column as well to gain more insights"
   ]
  },
  {
   "cell_type": "code",
   "execution_count": 17,
   "metadata": {},
   "outputs": [],
   "source": [
    "covid_food_data = pd.DataFrame(covid_food_data, columns = ['Country', 'Animal Products', 'Cereals - Excluding Beer', 'Vegetal Products', 'Obesity', 'Undernourished', 'Confirmed', 'Deaths', 'Recovered', 'Active', 'Population'])"
   ]
  },
  {
   "cell_type": "markdown",
   "metadata": {},
   "source": [
    "#### Data reduction. Since the data in the sample has long decimal values, we rounded them to 4 decimal places inorder to reduce the storage capacity"
   ]
  },
  {
   "cell_type": "code",
   "execution_count": 18,
   "metadata": {},
   "outputs": [],
   "source": [
    "covid_food_data = np.round(covid_food_data, decimals=4)"
   ]
  },
  {
   "cell_type": "code",
   "execution_count": 19,
   "metadata": {},
   "outputs": [
    {
     "data": {
      "text/html": [
       "<div>\n",
       "<style scoped>\n",
       "    .dataframe tbody tr th:only-of-type {\n",
       "        vertical-align: middle;\n",
       "    }\n",
       "\n",
       "    .dataframe tbody tr th {\n",
       "        vertical-align: top;\n",
       "    }\n",
       "\n",
       "    .dataframe thead th {\n",
       "        text-align: right;\n",
       "    }\n",
       "</style>\n",
       "<table border=\"1\" class=\"dataframe\">\n",
       "  <thead>\n",
       "    <tr style=\"text-align: right;\">\n",
       "      <th></th>\n",
       "      <th>Country</th>\n",
       "      <th>Animal Products</th>\n",
       "      <th>Cereals - Excluding Beer</th>\n",
       "      <th>Vegetal Products</th>\n",
       "      <th>Obesity</th>\n",
       "      <th>Undernourished</th>\n",
       "      <th>Confirmed</th>\n",
       "      <th>Deaths</th>\n",
       "      <th>Recovered</th>\n",
       "      <th>Active</th>\n",
       "      <th>Population</th>\n",
       "    </tr>\n",
       "  </thead>\n",
       "  <tbody>\n",
       "    <tr>\n",
       "      <th>0</th>\n",
       "      <td>Afghanistan</td>\n",
       "      <td>9.43</td>\n",
       "      <td>24.8097</td>\n",
       "      <td>40.56</td>\n",
       "      <td>4.5</td>\n",
       "      <td>29.8000</td>\n",
       "      <td>0.0911</td>\n",
       "      <td>0.0030</td>\n",
       "      <td>0.0607</td>\n",
       "      <td>0.0274</td>\n",
       "      <td>38928000.0</td>\n",
       "    </tr>\n",
       "    <tr>\n",
       "      <th>1</th>\n",
       "      <td>Albania</td>\n",
       "      <td>18.77</td>\n",
       "      <td>5.7817</td>\n",
       "      <td>31.23</td>\n",
       "      <td>22.3</td>\n",
       "      <td>6.2000</td>\n",
       "      <td>0.1441</td>\n",
       "      <td>0.0039</td>\n",
       "      <td>0.0814</td>\n",
       "      <td>0.0587</td>\n",
       "      <td>2838000.0</td>\n",
       "    </tr>\n",
       "    <tr>\n",
       "      <th>2</th>\n",
       "      <td>Algeria</td>\n",
       "      <td>9.63</td>\n",
       "      <td>13.6816</td>\n",
       "      <td>40.37</td>\n",
       "      <td>26.6</td>\n",
       "      <td>3.9000</td>\n",
       "      <td>0.0520</td>\n",
       "      <td>0.0024</td>\n",
       "      <td>0.0362</td>\n",
       "      <td>0.0134</td>\n",
       "      <td>44357000.0</td>\n",
       "    </tr>\n",
       "    <tr>\n",
       "      <th>3</th>\n",
       "      <td>Angola</td>\n",
       "      <td>4.93</td>\n",
       "      <td>9.1085</td>\n",
       "      <td>45.07</td>\n",
       "      <td>6.8</td>\n",
       "      <td>25.0000</td>\n",
       "      <td>0.0022</td>\n",
       "      <td>0.0001</td>\n",
       "      <td>0.0007</td>\n",
       "      <td>0.0014</td>\n",
       "      <td>32522000.0</td>\n",
       "    </tr>\n",
       "    <tr>\n",
       "      <th>4</th>\n",
       "      <td>Antigua and Barbuda</td>\n",
       "      <td>16.66</td>\n",
       "      <td>5.9960</td>\n",
       "      <td>33.32</td>\n",
       "      <td>19.1</td>\n",
       "      <td>11.2294</td>\n",
       "      <td>0.0776</td>\n",
       "      <td>0.0031</td>\n",
       "      <td>0.0582</td>\n",
       "      <td>0.0163</td>\n",
       "      <td>98000.0</td>\n",
       "    </tr>\n",
       "  </tbody>\n",
       "</table>\n",
       "</div>"
      ],
      "text/plain": [
       "               Country  Animal Products  Cereals - Excluding Beer  \\\n",
       "0          Afghanistan             9.43                   24.8097   \n",
       "1              Albania            18.77                    5.7817   \n",
       "2              Algeria             9.63                   13.6816   \n",
       "3               Angola             4.93                    9.1085   \n",
       "4  Antigua and Barbuda            16.66                    5.9960   \n",
       "\n",
       "   Vegetal Products  Obesity  Undernourished  Confirmed  Deaths  Recovered  \\\n",
       "0             40.56      4.5         29.8000     0.0911  0.0030     0.0607   \n",
       "1             31.23     22.3          6.2000     0.1441  0.0039     0.0814   \n",
       "2             40.37     26.6          3.9000     0.0520  0.0024     0.0362   \n",
       "3             45.07      6.8         25.0000     0.0022  0.0001     0.0007   \n",
       "4             33.32     19.1         11.2294     0.0776  0.0031     0.0582   \n",
       "\n",
       "   Active  Population  \n",
       "0  0.0274  38928000.0  \n",
       "1  0.0587   2838000.0  \n",
       "2  0.0134  44357000.0  \n",
       "3  0.0014  32522000.0  \n",
       "4  0.0163     98000.0  "
      ]
     },
     "execution_count": 19,
     "metadata": {},
     "output_type": "execute_result"
    }
   ],
   "source": [
    "covid_food_data.head()"
   ]
  },
  {
   "cell_type": "markdown",
   "metadata": {},
   "source": [
    "## Exploratory Data Analysis"
   ]
  },
  {
   "cell_type": "code",
   "execution_count": 20,
   "metadata": {},
   "outputs": [],
   "source": [
    "import warnings\n",
    "warnings.filterwarnings('ignore')"
   ]
  },
  {
   "cell_type": "markdown",
   "metadata": {},
   "source": [
    "#### Plotting a bargraph to observe the top 15 countries with highest death rate reported"
   ]
  },
  {
   "cell_type": "code",
   "execution_count": 21,
   "metadata": {},
   "outputs": [
    {
     "data": {
      "image/png": "[encoded data removed]",
      "text/plain": [
       "<Figure size 720x432 with 1 Axes>"
      ]
     },
     "metadata": {
      "needs_background": "light"
     },
     "output_type": "display_data"
    }
   ],
   "source": [
    "covid_food_analysis = pd.DataFrame(covid_food_data, columns = ['Country', 'Animal Products', 'Cereals - Excluding Beer', 'Vegetal Products', 'Obesity', 'Undernourished', 'Deaths', 'Population'])\n",
    "# replacing death % value with number of deaths\n",
    "covid_food_analysis.Deaths = np.round(covid_food_analysis.Deaths, decimals =4)\n",
    "covid_food_analysis_sorted = covid_food_analysis.sort_values(by=['Deaths'])\n",
    "# top 15 countries based on death rate\n",
    "highest_deathRate_countries = covid_food_analysis_sorted.tail(15)\n",
    "#bar plot\n",
    "plt.figure(figsize=(10,6)) \n",
    "ax = sns.barplot('Country', 'Deaths', data = highest_deathRate_countries, palette=\"Blues\")\n",
    "ax.set_title('Top 15 Countries by Death Rate')\n",
    "ax.set_xticklabels(ax.get_xticklabels(),rotation=40, ha = 'right')\n",
    "plt.show()"
   ]
  },
  {
   "cell_type": "code",
   "execution_count": null,
   "metadata": {},
   "outputs": [],
   "source": []
  },
  {
   "cell_type": "code",
   "execution_count": 22,
   "metadata": {},
   "outputs": [
    {
     "data": {
      "image/png": "[encoded data removed]",
      "text/plain": [
       "<Figure size 720x432 with 1 Axes>"
      ]
     },
     "metadata": {
      "needs_background": "light"
     },
     "output_type": "display_data"
    }
   ],
   "source": [
    "# top 15 countries facing obesity issues\n",
    "covid_food_analysis.Obesity = np.round(covid_food_analysis.Obesity, decimals =4)\n",
    "Obesity_sorted = covid_food_analysis.sort_values(by=['Obesity'])\n",
    "# top 15 countries based on Obesity rate\n",
    "highest_ObesityRate_countries = Obesity_sorted.tail(15)\n",
    "# bar plot\n",
    "plt.figure(figsize=(10,6)) \n",
    "ax = sns.barplot('Country', 'Obesity', data = highest_ObesityRate_countries, palette=\"OrRd\" )\n",
    "ax.set_title('Top 15 Countries by Obesity Rate')\n",
    "ax.set_xticklabels(ax.get_xticklabels(),rotation=40, ha = 'right')\n",
    "plt.show()"
   ]
  },
  {
   "cell_type": "markdown",
   "metadata": {},
   "source": [
    "#### Plotting a bargraph to observe the top 15 countries with Highest Obesity Rate"
   ]
  },
  {
   "cell_type": "code",
   "execution_count": 23,
   "metadata": {},
   "outputs": [
    {
     "data": {
      "image/png": "[encoded data removed]",
      "text/plain": [
       "<Figure size 720x432 with 1 Axes>"
      ]
     },
     "metadata": {
      "needs_background": "light"
     },
     "output_type": "display_data"
    }
   ],
   "source": [
    "# top 15 countries facing Undernourished issues\n",
    "covid_food_analysis.Undernourished = np.round(covid_food_analysis.Undernourished, decimals =4)\n",
    "Undernourished_sorted = covid_food_analysis.sort_values(by=['Undernourished'])\n",
    "# top 15 countries based on Undernourished rate\n",
    "highest_UndernourishedRate_countries = Undernourished_sorted.tail(15)\n",
    "#bar plot\n",
    "plt.figure(figsize=(10,6)) \n",
    "ax = sns.barplot('Country', 'Undernourished', data = highest_UndernourishedRate_countries, palette=\"GnBu\")\n",
    "ax.set_title('Countries that are highly undernourished')\n",
    "ax.set_xticklabels(ax.get_xticklabels(),rotation=40, ha = 'right')\n",
    "plt.show()"
   ]
  },
  {
   "cell_type": "code",
   "execution_count": 24,
   "metadata": {},
   "outputs": [
    {
     "data": {
      "text/plain": [
       "'temp-plot.html'"
      ]
     },
     "execution_count": 24,
     "metadata": {},
     "output_type": "execute_result"
    }
   ],
   "source": [
    "import sys\n",
    "import plotly.express as px\n",
    "import plotly\n",
    "\n",
    "plotS = px.scatter(highest_deathRate_countries, x=\"Deaths\", y=\"Obesity\", text=\"Country\", width=1000, height=500)\n",
    "plotS.update_traces(textposition='top left')\n",
    "plotS.update_layout(title_text='Deaths vs Obesity Percentage in the top 15 countries', title_font_family=\"Times New Roman\", font_family=\"Times New Roman\")\n",
    "plotly.offline.plot(plotS, \"fig_highest_death.html\")"
   ]
  },
  {
   "cell_type": "markdown",
   "metadata": {},
   "source": [
    "![title](../images/newplot.png)"
   ]
  },
  {
   "cell_type": "markdown",
   "metadata": {},
   "source": [
    "### We are trying to establish a relationship between the food consumption and COVID-19 Death rate. So, taking all the necessary columns into a new list."
   ]
  },
  {
   "cell_type": "code",
   "execution_count": 25,
   "metadata": {},
   "outputs": [
    {
     "data": {
      "text/html": [
       "<div>\n",
       "<style scoped>\n",
       "    .dataframe tbody tr th:only-of-type {\n",
       "        vertical-align: middle;\n",
       "    }\n",
       "\n",
       "    .dataframe tbody tr th {\n",
       "        vertical-align: top;\n",
       "    }\n",
       "\n",
       "    .dataframe thead th {\n",
       "        text-align: right;\n",
       "    }\n",
       "</style>\n",
       "<table border=\"1\" class=\"dataframe\">\n",
       "  <thead>\n",
       "    <tr style=\"text-align: right;\">\n",
       "      <th></th>\n",
       "      <th>Country</th>\n",
       "      <th>Animal Products</th>\n",
       "      <th>Cereals - Excluding Beer</th>\n",
       "      <th>Vegetal Products</th>\n",
       "      <th>Obesity</th>\n",
       "      <th>Undernourished</th>\n",
       "      <th>Deaths</th>\n",
       "    </tr>\n",
       "  </thead>\n",
       "  <tbody>\n",
       "    <tr>\n",
       "      <th>0</th>\n",
       "      <td>Afghanistan</td>\n",
       "      <td>9.43</td>\n",
       "      <td>24.8097</td>\n",
       "      <td>40.56</td>\n",
       "      <td>4.5</td>\n",
       "      <td>29.8000</td>\n",
       "      <td>0.0030</td>\n",
       "    </tr>\n",
       "    <tr>\n",
       "      <th>1</th>\n",
       "      <td>Albania</td>\n",
       "      <td>18.77</td>\n",
       "      <td>5.7817</td>\n",
       "      <td>31.23</td>\n",
       "      <td>22.3</td>\n",
       "      <td>6.2000</td>\n",
       "      <td>0.0039</td>\n",
       "    </tr>\n",
       "    <tr>\n",
       "      <th>2</th>\n",
       "      <td>Algeria</td>\n",
       "      <td>9.63</td>\n",
       "      <td>13.6816</td>\n",
       "      <td>40.37</td>\n",
       "      <td>26.6</td>\n",
       "      <td>3.9000</td>\n",
       "      <td>0.0024</td>\n",
       "    </tr>\n",
       "    <tr>\n",
       "      <th>3</th>\n",
       "      <td>Angola</td>\n",
       "      <td>4.93</td>\n",
       "      <td>9.1085</td>\n",
       "      <td>45.07</td>\n",
       "      <td>6.8</td>\n",
       "      <td>25.0000</td>\n",
       "      <td>0.0001</td>\n",
       "    </tr>\n",
       "    <tr>\n",
       "      <th>4</th>\n",
       "      <td>Antigua and Barbuda</td>\n",
       "      <td>16.66</td>\n",
       "      <td>5.9960</td>\n",
       "      <td>33.32</td>\n",
       "      <td>19.1</td>\n",
       "      <td>11.2294</td>\n",
       "      <td>0.0031</td>\n",
       "    </tr>\n",
       "  </tbody>\n",
       "</table>\n",
       "</div>"
      ],
      "text/plain": [
       "               Country  Animal Products  Cereals - Excluding Beer  \\\n",
       "0          Afghanistan             9.43                   24.8097   \n",
       "1              Albania            18.77                    5.7817   \n",
       "2              Algeria             9.63                   13.6816   \n",
       "3               Angola             4.93                    9.1085   \n",
       "4  Antigua and Barbuda            16.66                    5.9960   \n",
       "\n",
       "   Vegetal Products  Obesity  Undernourished  Deaths  \n",
       "0             40.56      4.5         29.8000  0.0030  \n",
       "1             31.23     22.3          6.2000  0.0039  \n",
       "2             40.37     26.6          3.9000  0.0024  \n",
       "3             45.07      6.8         25.0000  0.0001  \n",
       "4             33.32     19.1         11.2294  0.0031  "
      ]
     },
     "execution_count": 25,
     "metadata": {},
     "output_type": "execute_result"
    }
   ],
   "source": [
    "covid_food_data = pd.DataFrame(covid_food_data, columns = ['Country', 'Animal Products', 'Cereals - Excluding Beer', 'Vegetal Products', 'Obesity', 'Undernourished', 'Deaths'])\n",
    "covid_food_data.head()"
   ]
  },
  {
   "cell_type": "code",
   "execution_count": 26,
   "metadata": {},
   "outputs": [
    {
     "data": {
      "text/html": [
       "<div>\n",
       "<style scoped>\n",
       "    .dataframe tbody tr th:only-of-type {\n",
       "        vertical-align: middle;\n",
       "    }\n",
       "\n",
       "    .dataframe tbody tr th {\n",
       "        vertical-align: top;\n",
       "    }\n",
       "\n",
       "    .dataframe thead th {\n",
       "        text-align: right;\n",
       "    }\n",
       "</style>\n",
       "<table border=\"1\" class=\"dataframe\">\n",
       "  <thead>\n",
       "    <tr style=\"text-align: right;\">\n",
       "      <th></th>\n",
       "      <th>Animal Products</th>\n",
       "      <th>Vegetal Products</th>\n",
       "      <th>Obesity</th>\n",
       "      <th>Undernourished</th>\n",
       "      <th>Deaths</th>\n",
       "    </tr>\n",
       "  </thead>\n",
       "  <tbody>\n",
       "    <tr>\n",
       "      <th>0</th>\n",
       "      <td>9.43</td>\n",
       "      <td>40.56</td>\n",
       "      <td>4.5</td>\n",
       "      <td>29.8000</td>\n",
       "      <td>0.0030</td>\n",
       "    </tr>\n",
       "    <tr>\n",
       "      <th>1</th>\n",
       "      <td>18.77</td>\n",
       "      <td>31.23</td>\n",
       "      <td>22.3</td>\n",
       "      <td>6.2000</td>\n",
       "      <td>0.0039</td>\n",
       "    </tr>\n",
       "    <tr>\n",
       "      <th>2</th>\n",
       "      <td>9.63</td>\n",
       "      <td>40.37</td>\n",
       "      <td>26.6</td>\n",
       "      <td>3.9000</td>\n",
       "      <td>0.0024</td>\n",
       "    </tr>\n",
       "    <tr>\n",
       "      <th>3</th>\n",
       "      <td>4.93</td>\n",
       "      <td>45.07</td>\n",
       "      <td>6.8</td>\n",
       "      <td>25.0000</td>\n",
       "      <td>0.0001</td>\n",
       "    </tr>\n",
       "    <tr>\n",
       "      <th>4</th>\n",
       "      <td>16.66</td>\n",
       "      <td>33.32</td>\n",
       "      <td>19.1</td>\n",
       "      <td>11.2294</td>\n",
       "      <td>0.0031</td>\n",
       "    </tr>\n",
       "  </tbody>\n",
       "</table>\n",
       "</div>"
      ],
      "text/plain": [
       "   Animal Products  Vegetal Products  Obesity  Undernourished  Deaths\n",
       "0             9.43             40.56      4.5         29.8000  0.0030\n",
       "1            18.77             31.23     22.3          6.2000  0.0039\n",
       "2             9.63             40.37     26.6          3.9000  0.0024\n",
       "3             4.93             45.07      6.8         25.0000  0.0001\n",
       "4            16.66             33.32     19.1         11.2294  0.0031"
      ]
     },
     "execution_count": 26,
     "metadata": {},
     "output_type": "execute_result"
    }
   ],
   "source": [
    "covid_food_data2 = pd.DataFrame(covid_food_data, columns = ['Animal Products', 'Vegetal Products', 'Obesity', 'Undernourished', 'Deaths'])\n",
    "covid_food_data2.head()"
   ]
  },
  {
   "cell_type": "markdown",
   "metadata": {},
   "source": [
    "#### Extracting the list of countries so as to use them as labels while plotting graphs"
   ]
  },
  {
   "cell_type": "code",
   "execution_count": 27,
   "metadata": {},
   "outputs": [
    {
     "name": "stdout",
     "output_type": "stream",
     "text": [
      "['Afghanistan', 'Albania', 'Algeria', 'Angola', 'Antigua and Barbuda', 'Argentina', 'Armenia', 'Australia', 'Austria', 'Azerbaijan', 'Bahamas', 'Bangladesh', 'Barbados', 'Belarus', 'Belgium', 'Belize', 'Benin', 'Bolivia', 'Bosnia and Herzegovina', 'Botswana', 'Brazil', 'Bulgaria', 'Burkina Faso', 'Cabo Verde', 'Cambodia', 'Cameroon', 'Canada', 'Central African Republic', 'Chad', 'Chile', 'China', 'Colombia', 'Congo', 'Costa Rica', \"Cote d'Ivoire\", 'Croatia', 'Cuba', 'Cyprus', 'Czechia', 'Denmark', 'Djibouti', 'Dominica', 'Dominican Republic', 'Ecuador', 'Egypt', 'El Salvador', 'Estonia', 'Eswatini', 'Ethiopia', 'Fiji', 'Finland', 'France', 'Gabon', 'Gambia', 'Georgia', 'Germany', 'Ghana', 'Greece', 'Grenada', 'Guatemala', 'Guinea', 'Guinea-Bissau', 'Guyana', 'Haiti', 'Honduras', 'Hungary', 'Iceland', 'India', 'Indonesia', 'Iran (Islamic Republic of)', 'Iraq', 'Ireland', 'Israel', 'Italy', 'Jamaica', 'Japan', 'Jordan', 'Kazakhstan', 'Kenya', 'Korea, South', 'Kuwait', 'Kyrgyzstan', \"Lao People's Democratic Republic\", 'Latvia', 'Lebanon', 'Lesotho', 'Liberia', 'Lithuania', 'Luxembourg', 'Madagascar', 'Malawi', 'Malaysia', 'Maldives', 'Mali', 'Malta', 'Mauritania', 'Mauritius', 'Mexico', 'Mongolia', 'Montenegro', 'Morocco', 'Mozambique', 'Namibia', 'Nepal', 'Netherlands', 'New Zealand', 'Nicaragua', 'Niger', 'Nigeria', 'North Macedonia', 'Norway', 'Oman', 'Pakistan', 'Panama', 'Paraguay', 'Peru', 'Philippines', 'Poland', 'Portugal', 'Republic of Moldova', 'Romania', 'Russian Federation', 'Rwanda', 'Saint Kitts and Nevis', 'Saint Lucia', 'Saint Vincent and the Grenadines', 'Sao Tome and Principe', 'Saudi Arabia', 'Senegal', 'Serbia', 'Sierra Leone', 'Slovakia', 'Slovenia', 'South Africa', 'Spain', 'Sri Lanka', 'Sudan', 'Suriname', 'Sweden', 'Switzerland', 'Taiwan*', 'Tajikistan', 'Thailand', 'Timor-Leste', 'Togo', 'Trinidad and Tobago', 'Tunisia', 'Turkey', 'Uganda', 'Ukraine', 'United Arab Emirates', 'United Kingdom', 'United Republic of Tanzania', 'United States of America', 'Uruguay', 'Uzbekistan', 'Venezuela (Bolivarian Republic of)', 'Vietnam', 'Yemen', 'Zambia', 'Zimbabwe']\n"
     ]
    }
   ],
   "source": [
    "covid_food_data\n",
    "country_list = covid_food_data['Country'].tolist()\n",
    "print (country_list)"
   ]
  },
  {
   "cell_type": "code",
   "execution_count": 28,
   "metadata": {},
   "outputs": [
    {
     "data": {
      "text/html": [
       "<div>\n",
       "<style scoped>\n",
       "    .dataframe tbody tr th:only-of-type {\n",
       "        vertical-align: middle;\n",
       "    }\n",
       "\n",
       "    .dataframe tbody tr th {\n",
       "        vertical-align: top;\n",
       "    }\n",
       "\n",
       "    .dataframe thead th {\n",
       "        text-align: right;\n",
       "    }\n",
       "</style>\n",
       "<table border=\"1\" class=\"dataframe\">\n",
       "  <thead>\n",
       "    <tr style=\"text-align: right;\">\n",
       "      <th></th>\n",
       "      <th>Animal Products</th>\n",
       "      <th>Cereals - Excluding Beer</th>\n",
       "      <th>Vegetal Products</th>\n",
       "      <th>Obesity</th>\n",
       "      <th>Undernourished</th>\n",
       "      <th>Deaths</th>\n",
       "    </tr>\n",
       "  </thead>\n",
       "  <tbody>\n",
       "    <tr>\n",
       "      <th>count</th>\n",
       "      <td>161.000000</td>\n",
       "      <td>161.000000</td>\n",
       "      <td>161.000000</td>\n",
       "      <td>161.000000</td>\n",
       "      <td>161.000000</td>\n",
       "      <td>161.000000</td>\n",
       "    </tr>\n",
       "    <tr>\n",
       "      <th>mean</th>\n",
       "      <td>12.306460</td>\n",
       "      <td>11.881619</td>\n",
       "      <td>37.690186</td>\n",
       "      <td>18.493837</td>\n",
       "      <td>11.257179</td>\n",
       "      <td>0.007616</td>\n",
       "    </tr>\n",
       "    <tr>\n",
       "      <th>std</th>\n",
       "      <td>5.903064</td>\n",
       "      <td>5.873080</td>\n",
       "      <td>5.903381</td>\n",
       "      <td>9.228264</td>\n",
       "      <td>11.542655</td>\n",
       "      <td>0.014151</td>\n",
       "    </tr>\n",
       "    <tr>\n",
       "      <th>min</th>\n",
       "      <td>1.740000</td>\n",
       "      <td>3.401400</td>\n",
       "      <td>23.110000</td>\n",
       "      <td>2.100000</td>\n",
       "      <td>2.500000</td>\n",
       "      <td>0.000000</td>\n",
       "    </tr>\n",
       "    <tr>\n",
       "      <th>25%</th>\n",
       "      <td>7.240000</td>\n",
       "      <td>7.209100</td>\n",
       "      <td>33.320000</td>\n",
       "      <td>8.600000</td>\n",
       "      <td>2.500000</td>\n",
       "      <td>0.000400</td>\n",
       "    </tr>\n",
       "    <tr>\n",
       "      <th>50%</th>\n",
       "      <td>12.130000</td>\n",
       "      <td>10.251000</td>\n",
       "      <td>37.860000</td>\n",
       "      <td>21.200000</td>\n",
       "      <td>7.100000</td>\n",
       "      <td>0.001900</td>\n",
       "    </tr>\n",
       "    <tr>\n",
       "      <th>75%</th>\n",
       "      <td>16.660000</td>\n",
       "      <td>15.157900</td>\n",
       "      <td>42.760000</td>\n",
       "      <td>25.700000</td>\n",
       "      <td>14.500000</td>\n",
       "      <td>0.006700</td>\n",
       "    </tr>\n",
       "    <tr>\n",
       "      <th>max</th>\n",
       "      <td>26.890000</td>\n",
       "      <td>29.804500</td>\n",
       "      <td>48.260000</td>\n",
       "      <td>37.300000</td>\n",
       "      <td>59.600000</td>\n",
       "      <td>0.085100</td>\n",
       "    </tr>\n",
       "  </tbody>\n",
       "</table>\n",
       "</div>"
      ],
      "text/plain": [
       "       Animal Products  Cereals - Excluding Beer  Vegetal Products  \\\n",
       "count       161.000000                161.000000        161.000000   \n",
       "mean         12.306460                 11.881619         37.690186   \n",
       "std           5.903064                  5.873080          5.903381   \n",
       "min           1.740000                  3.401400         23.110000   \n",
       "25%           7.240000                  7.209100         33.320000   \n",
       "50%          12.130000                 10.251000         37.860000   \n",
       "75%          16.660000                 15.157900         42.760000   \n",
       "max          26.890000                 29.804500         48.260000   \n",
       "\n",
       "          Obesity  Undernourished      Deaths  \n",
       "count  161.000000      161.000000  161.000000  \n",
       "mean    18.493837       11.257179    0.007616  \n",
       "std      9.228264       11.542655    0.014151  \n",
       "min      2.100000        2.500000    0.000000  \n",
       "25%      8.600000        2.500000    0.000400  \n",
       "50%     21.200000        7.100000    0.001900  \n",
       "75%     25.700000       14.500000    0.006700  \n",
       "max     37.300000       59.600000    0.085100  "
      ]
     },
     "execution_count": 28,
     "metadata": {},
     "output_type": "execute_result"
    }
   ],
   "source": [
    "covid_food_data.describe()"
   ]
  },
  {
   "cell_type": "markdown",
   "metadata": {},
   "source": [
    "#### looking for outliers in the data using boxplot"
   ]
  },
  {
   "cell_type": "code",
   "execution_count": 29,
   "metadata": {},
   "outputs": [
    {
     "data": {
      "image/png": "[encoded data removed]",
      "text/plain": [
       "<Figure size 576x576 with 6 Axes>"
      ]
     },
     "metadata": {
      "needs_background": "light"
     },
     "output_type": "display_data"
    }
   ],
   "source": [
    "covid_food_data.plot(kind='box', subplots=True, layout=(2,3), sharex=False, sharey=False , figsize = (8,8))\n",
    "plt.show()"
   ]
  },
  {
   "cell_type": "markdown",
   "metadata": {},
   "source": [
    "#### We can see outliers for Undernourished and Death variables but they cannot be removed because deleting them will result in data error "
   ]
  },
  {
   "cell_type": "markdown",
   "metadata": {},
   "source": [
    "#### The following histograms show the distributions of each feature namely Animal Products, Obesity and Vegetal Products have a roughly normal distribution"
   ]
  },
  {
   "cell_type": "code",
   "execution_count": 30,
   "metadata": {},
   "outputs": [
    {
     "data": {
      "image/png": "[encoded data removed]",
      "text/plain": [
       "<Figure size 576x576 with 6 Axes>"
      ]
     },
     "metadata": {
      "needs_background": "light"
     },
     "output_type": "display_data"
    }
   ],
   "source": [
    "num=covid_food_data.select_dtypes(include=['int64','float64'])\n",
    "num.hist(figsize=(8,8), color = 'lightseagreen')\n",
    "plt.show()"
   ]
  },
  {
   "cell_type": "markdown",
   "metadata": {},
   "source": [
    "#### In the below steps we are trying to establish a relationship between the Death Rate and the food supply in top 15 countries with highest death rate reported and the 15 countries with lower death rate"
   ]
  },
  {
   "cell_type": "code",
   "execution_count": 31,
   "metadata": {},
   "outputs": [],
   "source": [
    "#Sorting the data on the column 'Deaths' from lowest to highest\n",
    "sorted_data_byDeath = covid_food_data.sort_values(by=['Deaths'])"
   ]
  },
  {
   "cell_type": "code",
   "execution_count": 32,
   "metadata": {},
   "outputs": [],
   "source": [
    "selected_columns = ['Animal Products','Cereals - Excluding Beer','Vegetal Products','Obesity','Deaths']"
   ]
  },
  {
   "cell_type": "code",
   "execution_count": 33,
   "metadata": {},
   "outputs": [],
   "source": [
    "# Trying to segregate the Countries with highest and lowest 'Deaths' \n",
    "\n",
    "#filtering the colums with zero death rate\n",
    "sorted_data = sorted_data_byDeath[sorted_data_byDeath['Deaths'] != 0.0]\n",
    "\n",
    "# considering the top 15 and bottom 15 countries based on death rate\n",
    "lowest_deathRate_countries = sorted_data.head(15)\n",
    "highest_deathRate_countries = sorted_data.tail(15)"
   ]
  },
  {
   "cell_type": "code",
   "execution_count": 34,
   "metadata": {},
   "outputs": [
    {
     "name": "stdout",
     "output_type": "stream",
     "text": [
      "Average values of foods consumed in countries with highest covid-19 death rate -  {'Animal Products': 17.85, 'Cereals - Excluding Beer': 8.63, 'Vegetal Products': 32.15, 'Obesity': 25.13}\n",
      "Average values of foods consumed in countries with lowest covid-19 death rate -  {'Animal Products': 6.86, 'Cereals - Excluding Beer': 17.0, 'Vegetal Products': 43.14, 'Obesity': 8.79}\n"
     ]
    }
   ],
   "source": [
    "# checking the mean value food consumption in highest and lowest affected countries based on death rate \n",
    "highest_mean = {c:np.round(highest_deathRate_countries[c].mean(), decimals=2) for c in selected_columns[:-1]}\n",
    "print('Average values of foods consumed in countries with highest covid-19 death rate - ', highest_mean)\n",
    "\n",
    "lowest_mean = {c:np.round(lowest_deathRate_countries[c].mean(), decimals=2) for c in selected_columns[:-1]}\n",
    "print('Average values of foods consumed in countries with lowest covid-19 death rate - ', lowest_mean)"
   ]
  },
  {
   "cell_type": "code",
   "execution_count": 35,
   "metadata": {},
   "outputs": [
    {
     "data": {
      "image/png": "[encoded data removed]",
      "text/plain": [
       "<Figure size 648x432 with 1 Axes>"
      ]
     },
     "metadata": {
      "needs_background": "light"
     },
     "output_type": "display_data"
    }
   ],
   "source": [
    "#function for displaying the percentages on the top of each rectangle in bar chart\n",
    "def autolabel(rects):\n",
    "    for r in rects:\n",
    "        height = r.get_height()\n",
    "        ax.annotate('{}'.format(height), xy=(r.get_x() + r.get_width() / 2, height), xytext=(0, 1),  \n",
    "                    textcoords=\"offset points\", ha='center', va='bottom')\n",
    "        \n",
    "#locations of the labels\n",
    "locations = np.array([0, 3, 6, 9])\n",
    "\n",
    "#rectangle bar size\n",
    "size = 0.8  \n",
    "\n",
    "fig, ax = plt.subplots(figsize=(9, 6))\n",
    "r1 = ax.bar(locations - size/2, highest_mean.values(), size, label='High_deathRate_group', color = 'mediumturquoise')\n",
    "r2 = ax.bar(locations + size/2, lowest_mean.values(), label='Low_deathRate_group', color='khaki')\n",
    "\n",
    "ax.set_xticks(locations)\n",
    "ax.set_xticklabels(selected_columns[:-1])\n",
    "ax.set_ylabel('Percentage of food supply')\n",
    "ax.set_title('Percentage of food supply in covid affected countries')\n",
    "ax.legend(loc='upper left')\n",
    "autolabel(r1)\n",
    "autolabel(r2)\n",
    "plt.show()\n"
   ]
  },
  {
   "cell_type": "markdown",
   "metadata": {},
   "source": [
    "#### It can be infered from the chart that, countries which consume higher percentage of vegetal products and cereals reported a lower death rate.\n",
    "#### On the other hand, countries which consume animal products reported a higher death rate."
   ]
  },
  {
   "cell_type": "markdown",
   "metadata": {},
   "source": [
    "### Correlation Matrix for the Dataset\n",
    "#### The following correlation table shows the correlation among all the features."
   ]
  },
  {
   "cell_type": "code",
   "execution_count": 36,
   "metadata": {},
   "outputs": [
    {
     "data": {
      "text/plain": [
       "<matplotlib.axes._subplots.AxesSubplot at 0x7fd9a745ee50>"
      ]
     },
     "execution_count": 36,
     "metadata": {},
     "output_type": "execute_result"
    },
    {
     "data": {
      "image/png": "[encoded data removed]",
      "text/plain": [
       "<Figure size 576x576 with 2 Axes>"
      ]
     },
     "metadata": {
      "needs_background": "light"
     },
     "output_type": "display_data"
    }
   ],
   "source": [
    "corr=covid_food_data.corr()\n",
    "plt.figure(figsize=(8,8))\n",
    "sns.heatmap(corr,annot=True)"
   ]
  },
  {
   "cell_type": "code",
   "execution_count": null,
   "metadata": {},
   "outputs": [
    {
     "name": "stdout",
     "output_type": "stream",
     "text": [
      "Displaying chart at http://localhost:15069/\n"
     ]
    }
   ],
   "source": [
    "import altair as alt\n",
    "chart = alt.Chart(covid_food_data).mark_point().encode(\n",
    "    x='Animal Products',\n",
    "    y='Obesity',\n",
    "    color='Deaths'\n",
    ").interactive()\n",
    "chart.show()"
   ]
  },
  {
   "cell_type": "markdown",
   "metadata": {},
   "source": [
    "![title](../images/animal_products_chart.png)"
   ]
  },
  {
   "cell_type": "code",
   "execution_count": null,
   "metadata": {},
   "outputs": [],
   "source": [
    "import altair as alt\n",
    "chart =  alt.Chart(covid_food_data).mark_point().encode(\n",
    "    x='Vegetal Products',\n",
    "    y='Obesity',\n",
    "    color='Deaths'\n",
    ").interactive()\n",
    "chart.show()"
   ]
  },
  {
   "cell_type": "markdown",
   "metadata": {},
   "source": [
    "![title](../images/vegetal_products_chart.png)"
   ]
  },
  {
   "cell_type": "markdown",
   "metadata": {},
   "source": [
    "#### It seems that animal products and obesity is positively correlated and vegetal products and obesity is negatively correlated. Countries that consume high vegetal products have lower obesity rates and countries that consume high animal products have higher obesity rates.\n",
    "\n",
    "#### Note: The Deaths are not highly correlated with the food products and obesity"
   ]
  },
  {
   "cell_type": "markdown",
   "metadata": {},
   "source": [
    "## Machine Learning "
   ]
  },
  {
   "cell_type": "markdown",
   "metadata": {},
   "source": [
    "### Unsupervised Learning(Clustering)"
   ]
  },
  {
   "cell_type": "code",
   "execution_count": null,
   "metadata": {},
   "outputs": [],
   "source": [
    "#Since all other foods sum up to animal products and vegetal products, we subsetted the data to include only those foods to avoid multi-colinearity\n",
    "covid_index_data = covid_food_data['Country']\n",
    "covid_food_data = covid_food_data[['Animal Products', 'Vegetal Products', 'Obesity', 'Undernourished', 'Deaths']]\n",
    "covid_food_data.index = covid_index_data\n",
    "covid_food_data"
   ]
  },
  {
   "cell_type": "markdown",
   "metadata": {},
   "source": [
    "#### Scaling the data before clustering with RobustScaler()"
   ]
  },
  {
   "cell_type": "code",
   "execution_count": null,
   "metadata": {},
   "outputs": [],
   "source": [
    "from sklearn.preprocessing import RobustScaler\n",
    "\n",
    "scaler = RobustScaler()\n",
    "covid_food_data[['Animal Products', 'Vegetal Products', 'Obesity', 'Undernourished', 'Deaths']] = scaler.fit_transform(covid_food_data[['Animal Products', 'Vegetal Products', 'Obesity', 'Undernourished', 'Deaths']])\n",
    "covid_food_data"
   ]
  },
  {
   "cell_type": "code",
   "execution_count": null,
   "metadata": {},
   "outputs": [],
   "source": [
    "covid_food_data2"
   ]
  },
  {
   "cell_type": "markdown",
   "metadata": {},
   "source": [
    "###### Checking to see how much variability each principle component captures"
   ]
  },
  {
   "cell_type": "code",
   "execution_count": null,
   "metadata": {},
   "outputs": [],
   "source": [
    "from sklearn.decomposition import PCA\n",
    "pca = PCA(random_state=101)\n",
    "pca.fit(covid_food_data)\n",
    "pca.explained_variance_ratio_"
   ]
  },
  {
   "cell_type": "markdown",
   "metadata": {},
   "source": [
    "#### We can capture close to 90% of the variation from the first two components so we will proceed with 2 components"
   ]
  },
  {
   "cell_type": "code",
   "execution_count": null,
   "metadata": {},
   "outputs": [],
   "source": [
    "pca = PCA(n_components=2, random_state=101)\n",
    "score = pca.fit_transform(covid_food_data[['Animal Products', 'Vegetal Products', 'Obesity', 'Undernourished', 'Deaths']])\n",
    "pd.DataFrame(score)"
   ]
  },
  {
   "cell_type": "code",
   "execution_count": null,
   "metadata": {},
   "outputs": [],
   "source": [
    "pca_components = pd.DataFrame(score)\n",
    "pca_components.index = covid_index_data\n",
    "pca_components"
   ]
  },
  {
   "cell_type": "markdown",
   "metadata": {},
   "source": [
    "### KMeans"
   ]
  },
  {
   "cell_type": "code",
   "execution_count": null,
   "metadata": {},
   "outputs": [],
   "source": [
    "# performing a KMeans with 3 clusters\n",
    "from sklearn.cluster import KMeans\n",
    "\n",
    "kmeans = KMeans(n_clusters=3, init ='k-means++', max_iter=300, n_init=10,random_state=0 )\n",
    "y_kmeans = kmeans.fit(pca_components)\n",
    "covid_food_data['Component1'] = pca_components.iloc[:,0]\n",
    "covid_food_data['Component2'] = pca_components.iloc[:,1]\n",
    "covid_food_data['labels'] = y_kmeans.labels_"
   ]
  },
  {
   "cell_type": "code",
   "execution_count": null,
   "metadata": {},
   "outputs": [],
   "source": [
    "covid_food_data.head()\n",
    "covid_food_data.to_csv('labeled.csv')"
   ]
  },
  {
   "cell_type": "markdown",
   "metadata": {},
   "source": [
    "#### Clustering visualization"
   ]
  },
  {
   "cell_type": "code",
   "execution_count": null,
   "metadata": {},
   "outputs": [],
   "source": [
    "plt.figure(figsize=(10,6)) \n",
    "sns.scatterplot(covid_food_data['Component1'], covid_food_data['Component2'], hue=covid_food_data['labels'], palette=['g', 'r', 'c'] )\n"
   ]
  },
  {
   "cell_type": "markdown",
   "metadata": {},
   "source": [
    "## Hierarchical Clustering"
   ]
  },
  {
   "cell_type": "markdown",
   "metadata": {},
   "source": [
    "#### In KMeans clustering, we need to decide the clusters before implementing the algorithm. Sometimes, we may not correctly interpret the number of clusters and it becomes challenging to predict the number of clusters.\n",
    "\n",
    "#### For Hierarchical clustering we do not need to know the number of clusters prior implementing the algorithm"
   ]
  },
  {
   "cell_type": "code",
   "execution_count": null,
   "metadata": {},
   "outputs": [],
   "source": [
    "covid_food_data2"
   ]
  },
  {
   "cell_type": "markdown",
   "metadata": {},
   "source": [
    "#### The columns in the covid food dataframe are Animal Products, Vegetal Products, Obesity, Undernourished, Deaths. We are aiming to make clusters from the dataframe with the help of Hierarchical Clustering.\n",
    "\n",
    "#### Before implementing Hierarchical Clustering, the data should be normalized so as to maintain same for each variable. If the variables are not scaled, there are chances that the model might become biased towards the variables with a larger magnitude."
   ]
  },
  {
   "cell_type": "code",
   "execution_count": null,
   "metadata": {},
   "outputs": [],
   "source": [
    "%matplotlib inline\n",
    "from sklearn.preprocessing import normalize\n",
    "data_scaled = normalize(covid_food_data2)\n",
    "data_scaled = pd.DataFrame(data_scaled, columns=covid_food_data2.columns)\n",
    "data_scaled.head()"
   ]
  },
  {
   "cell_type": "markdown",
   "metadata": {},
   "source": [
    "#### From the above table it can be infered that the scale of all the variables is almost similar. Let’s proceed further and plot the dendrogram to decide on the number of clusters.\n",
    "\n",
    "#### Using the linkage() function to obtain a hierarchical clustering on the data samples, and using Dendrogram to visualize the result."
   ]
  },
  {
   "cell_type": "code",
   "execution_count": null,
   "metadata": {},
   "outputs": [],
   "source": [
    "import scipy.cluster.hierarchy as shc\n",
    "plt.figure(figsize=(20, 7))  \n",
    "plt.title(\"Dendrograms\")  \n",
    "dend = shc.dendrogram(shc.linkage(data_scaled, method='ward'), labels=country_list, leaf_rotation=90,\n",
    "           leaf_font_size=6)"
   ]
  },
  {
   "cell_type": "markdown",
   "metadata": {},
   "source": [
    "#### In a Dendogram x-axis represents the samples and y-axis represents the distance between the samples. The vertical line with maximum distance is the blue line and hence we can decide a threshold of 3 to cut the dendrogram:"
   ]
  },
  {
   "cell_type": "code",
   "execution_count": null,
   "metadata": {},
   "outputs": [],
   "source": [
    "plt.figure(figsize=(20, 7))  \n",
    "plt.title(\"Dendrograms\")  \n",
    "dend = shc.dendrogram(shc.linkage(data_scaled, method='ward'), labels=country_list, leaf_rotation=90,\n",
    "           leaf_font_size=6)\n",
    "plt.axhline(y=3, color='r', linestyle='--')"
   ]
  },
  {
   "cell_type": "markdown",
   "metadata": {},
   "source": [
    "#### The line cuts the dendogram at two points. So, we have two clusters. Applying the Agglomerative hierarchical clustering for 2 clusters."
   ]
  },
  {
   "cell_type": "code",
   "execution_count": null,
   "metadata": {},
   "outputs": [],
   "source": [
    "from sklearn.cluster import AgglomerativeClustering\n",
    "cluster = AgglomerativeClustering(n_clusters=2, affinity='euclidean', linkage='ward')  \n",
    "cluster.fit_predict(data_scaled)"
   ]
  },
  {
   "cell_type": "markdown",
   "metadata": {},
   "source": [
    "#### Since, two clusters are defined, we can see the values of 0s and 1s in the output array. 0 represents the points that belong to the first cluster and 1 represents points in the second cluster. \n",
    "\n",
    "#### Plotting the scatter plot to visually see these cluster points. "
   ]
  },
  {
   "cell_type": "code",
   "execution_count": null,
   "metadata": {},
   "outputs": [],
   "source": [
    "plt.figure(figsize=(10, 7))  \n",
    "plt.scatter(data_scaled['Obesity'], data_scaled['Deaths'], c=cluster.labels_, edgecolors='r' ) \n",
    "plt.title(\"Obesity Vs covid-19 Death rate\"), \n",
    "plt.xlabel(\"Obesity\")\n",
    "plt.ylabel(\"Death Rate\")\n",
    "plt.show()"
   ]
  },
  {
   "cell_type": "markdown",
   "metadata": {},
   "source": [
    "#### We can visually see the two clusters in the scatter plot for Obesity Vs COVID-19 Death rate."
   ]
  },
  {
   "cell_type": "markdown",
   "metadata": {},
   "source": [
    "## Supervised Learning (Decision Trees)"
   ]
  },
  {
   "cell_type": "code",
   "execution_count": null,
   "metadata": {},
   "outputs": [],
   "source": [
    "covid_food_data"
   ]
  },
  {
   "cell_type": "code",
   "execution_count": null,
   "metadata": {},
   "outputs": [],
   "source": [
    "# Building decision trees to describe the clusters\n",
    "# Extracting initial features\n",
    "X = covid_food_data.iloc[:,0:5]\n",
    "X.head()"
   ]
  },
  {
   "cell_type": "code",
   "execution_count": null,
   "metadata": {},
   "outputs": [],
   "source": [
    "#Extracting predicted cluster labels\n",
    "y = covid_food_data['labels']\n",
    "y.head()"
   ]
  },
  {
   "cell_type": "code",
   "execution_count": null,
   "metadata": {},
   "outputs": [],
   "source": [
    "from sklearn.tree import DecisionTreeClassifier\n",
    "from sklearn.metrics import confusion_matrix\n",
    "from sklearn import tree\n",
    "\n",
    "dt = DecisionTreeClassifier(random_state=101)\n",
    "dt.fit(X, y)\n",
    "\n",
    "fig, axes = plt.subplots(nrows = 1,ncols = 1,figsize = (4,4), dpi=300)\n",
    "fn = ['Animal Products', 'Vegetal Products', 'Obesity', 'Undernourished', 'Deaths']\n",
    "cn = ['Cluster1' , 'Cluster2', 'Cluster3']\n",
    "\n",
    "tree.plot_tree(dt, feature_names = fn, class_names=cn)\n"
   ]
  },
  {
   "cell_type": "markdown",
   "metadata": {},
   "source": [
    "#### It seems that cluster 1 can be described by countries that obesity greater than -0.354, consume less than -0.12 vegetal products, and have undernourishment rate less than -0.029. Cluster 2 can be described by countries that have obesity greater than -0.354, deaths > 3.4, and undernourishment rate greater than 1.392. Cluster 3 can be described by countries that have obesity greater than -0.354, and deaths less than 3.4. \n",
    "\n",
    "#### Based on this cluster 2 contains countries that have the highest fatalities, and should make lifestyle / policy changes for the future."
   ]
  },
  {
   "cell_type": "markdown",
   "metadata": {},
   "source": [
    "## Evaluation"
   ]
  },
  {
   "cell_type": "code",
   "execution_count": null,
   "metadata": {},
   "outputs": [],
   "source": [
    "wcss=[]\n",
    "for i in range(1,11): \n",
    "    kmeans = KMeans(n_clusters=i, init ='k-means++', max_iter=300,  n_init=10,random_state=0 )\n",
    "    kmeans.fit(score)\n",
    "    wcss.append(kmeans.inertia_)\n",
    "plt.plot(range(1,11),wcss)\n",
    "plt.title('The Elbow Method Graph')\n",
    "plt.xlabel('Number of clusters')\n",
    "plt.ylabel('WCSS')\n",
    "plt.show()"
   ]
  },
  {
   "cell_type": "markdown",
   "metadata": {},
   "source": [
    "#### Optimal number of clusters to reduce the within cluster sum of squares to 200 is 3 clusters\n",
    "#### Updated the model in machine learning section to use 3 clusters"
   ]
  },
  {
   "cell_type": "code",
   "execution_count": null,
   "metadata": {},
   "outputs": [],
   "source": [
    "from sklearn.model_selection import train_test_split\n",
    "X_train, X_test, y_train, y_test = train_test_split(X, y, test_size=0.7, random_state=101)\n",
    "\n",
    "dt.fit(X_train, y_train)\n",
    "y_pred = dt.predict(X_test)\n",
    "\n",
    "from sklearn.metrics import classification_report, confusion_matrix\n",
    "print(confusion_matrix(y_test, y_pred))\n",
    "print(classification_report(y_test, y_pred))"
   ]
  },
  {
   "cell_type": "markdown",
   "metadata": {},
   "source": [
    "#### Using a 70-30 split, we were able to get 88% accuracy on predicting which cluster a country belongs to based on food and health factors of the country."
   ]
  }
 ],
 "metadata": {
  "kernelspec": {
   "display_name": "Python 3",
   "language": "python",
   "name": "python3"
  },
  "language_info": {
   "codemirror_mode": {
    "name": "ipython",
    "version": 3
   },
   "file_extension": ".py",
   "mimetype": "text/x-python",
   "name": "python",
   "nbconvert_exporter": "python",
   "pygments_lexer": "ipython3",
   "version": "3.7.7"
  }
 },
 "nbformat": 4,
 "nbformat_minor": 4
}
